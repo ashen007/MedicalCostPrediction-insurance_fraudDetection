{
 "cells": [
  {
   "cell_type": "code",
   "execution_count": 1,
   "outputs": [],
   "source": [
    "import numpy as np\n",
    "import pandas as pd\n",
    "import seaborn as sns\n",
    "\n",
    "from matplotlib import pyplot as plt\n",
    "from sklearn.feature_selection import SelectKBest\n",
    "from sklearn.feature_selection import f_regression"
   ],
   "metadata": {
    "collapsed": false,
    "pycharm": {
     "name": "#%%\n"
    }
   }
  },
  {
   "cell_type": "code",
   "execution_count": 2,
   "outputs": [
    {
     "data": {
      "text/plain": "           age  sex       bmi  children    smoker    region   charges\n0    -0.854167 -1.0 -0.304319      -0.5 -0.590433  0.000000  0.475094\n1    -1.020833  0.0  0.389592       0.0  0.000000  1.000000 -1.302772\n2    -0.447917  0.0  0.302496       1.0  0.000000  1.000000 -0.585858\n3    -0.239583  0.0 -0.987437      -0.5  0.000000  0.000000  0.692467\n4    -0.281250  0.0 -0.183343      -0.5  0.000000  0.000000 -0.693955\n...        ...  ...       ...       ...       ...       ...       ...\n1333  0.468750  0.0  0.067477       1.0  0.000000  0.000000  0.097725\n1334 -1.020833 -1.0  0.178465      -0.5  0.000000 -0.025641 -1.119708\n1335 -1.020833 -1.0  0.727647      -0.5  0.000000  1.000000 -1.345025\n1336 -0.739583 -1.0 -0.571484      -0.5  0.000000  0.000000 -1.190043\n1337  0.916667 -1.0 -0.160146      -0.5 -0.590433  0.000000  0.927370\n\n[1338 rows x 7 columns]",
      "text/html": "<div>\n<style scoped>\n    .dataframe tbody tr th:only-of-type {\n        vertical-align: middle;\n    }\n\n    .dataframe tbody tr th {\n        vertical-align: top;\n    }\n\n    .dataframe thead th {\n        text-align: right;\n    }\n</style>\n<table border=\"1\" class=\"dataframe\">\n  <thead>\n    <tr style=\"text-align: right;\">\n      <th></th>\n      <th>age</th>\n      <th>sex</th>\n      <th>bmi</th>\n      <th>children</th>\n      <th>smoker</th>\n      <th>region</th>\n      <th>charges</th>\n    </tr>\n  </thead>\n  <tbody>\n    <tr>\n      <th>0</th>\n      <td>-0.854167</td>\n      <td>-1.0</td>\n      <td>-0.304319</td>\n      <td>-0.5</td>\n      <td>-0.590433</td>\n      <td>0.000000</td>\n      <td>0.475094</td>\n    </tr>\n    <tr>\n      <th>1</th>\n      <td>-1.020833</td>\n      <td>0.0</td>\n      <td>0.389592</td>\n      <td>0.0</td>\n      <td>0.000000</td>\n      <td>1.000000</td>\n      <td>-1.302772</td>\n    </tr>\n    <tr>\n      <th>2</th>\n      <td>-0.447917</td>\n      <td>0.0</td>\n      <td>0.302496</td>\n      <td>1.0</td>\n      <td>0.000000</td>\n      <td>1.000000</td>\n      <td>-0.585858</td>\n    </tr>\n    <tr>\n      <th>3</th>\n      <td>-0.239583</td>\n      <td>0.0</td>\n      <td>-0.987437</td>\n      <td>-0.5</td>\n      <td>0.000000</td>\n      <td>0.000000</td>\n      <td>0.692467</td>\n    </tr>\n    <tr>\n      <th>4</th>\n      <td>-0.281250</td>\n      <td>0.0</td>\n      <td>-0.183343</td>\n      <td>-0.5</td>\n      <td>0.000000</td>\n      <td>0.000000</td>\n      <td>-0.693955</td>\n    </tr>\n    <tr>\n      <th>...</th>\n      <td>...</td>\n      <td>...</td>\n      <td>...</td>\n      <td>...</td>\n      <td>...</td>\n      <td>...</td>\n      <td>...</td>\n    </tr>\n    <tr>\n      <th>1333</th>\n      <td>0.468750</td>\n      <td>0.0</td>\n      <td>0.067477</td>\n      <td>1.0</td>\n      <td>0.000000</td>\n      <td>0.000000</td>\n      <td>0.097725</td>\n    </tr>\n    <tr>\n      <th>1334</th>\n      <td>-1.020833</td>\n      <td>-1.0</td>\n      <td>0.178465</td>\n      <td>-0.5</td>\n      <td>0.000000</td>\n      <td>-0.025641</td>\n      <td>-1.119708</td>\n    </tr>\n    <tr>\n      <th>1335</th>\n      <td>-1.020833</td>\n      <td>-1.0</td>\n      <td>0.727647</td>\n      <td>-0.5</td>\n      <td>0.000000</td>\n      <td>1.000000</td>\n      <td>-1.345025</td>\n    </tr>\n    <tr>\n      <th>1336</th>\n      <td>-0.739583</td>\n      <td>-1.0</td>\n      <td>-0.571484</td>\n      <td>-0.5</td>\n      <td>0.000000</td>\n      <td>0.000000</td>\n      <td>-1.190043</td>\n    </tr>\n    <tr>\n      <th>1337</th>\n      <td>0.916667</td>\n      <td>-1.0</td>\n      <td>-0.160146</td>\n      <td>-0.5</td>\n      <td>-0.590433</td>\n      <td>0.000000</td>\n      <td>0.927370</td>\n    </tr>\n  </tbody>\n</table>\n<p>1338 rows × 7 columns</p>\n</div>"
     },
     "execution_count": 2,
     "metadata": {},
     "output_type": "execute_result"
    }
   ],
   "source": [
    "ins_data = pd.read_pickle('../../data/feature engineered/insurance.pkl')\n",
    "ins_data"
   ],
   "metadata": {
    "collapsed": false,
    "pycharm": {
     "name": "#%%\n"
    }
   }
  },
  {
   "cell_type": "code",
   "execution_count": 3,
   "outputs": [],
   "source": [
    "Y = ins_data.loc[:, 'charges']\n",
    "X = ins_data.drop('charges', axis=1)"
   ],
   "metadata": {
    "collapsed": false,
    "pycharm": {
     "name": "#%%\n"
    }
   }
  },
  {
   "cell_type": "code",
   "execution_count": 4,
   "outputs": [
    {
     "data": {
      "text/plain": "((1338, 6), (1338,))"
     },
     "execution_count": 4,
     "metadata": {},
     "output_type": "execute_result"
    }
   ],
   "source": [
    "X.shape, Y.shape"
   ],
   "metadata": {
    "collapsed": false,
    "pycharm": {
     "name": "#%%\n"
    }
   }
  },
  {
   "cell_type": "code",
   "execution_count": 5,
   "outputs": [
    {
     "data": {
      "text/plain": "           age       bmi  children    smoker\n0    -0.854167 -0.304319      -0.5 -0.590433\n1    -1.020833  0.389592       0.0  0.000000\n2    -0.447917  0.302496       1.0  0.000000\n3    -0.239583 -0.987437      -0.5  0.000000\n4    -0.281250 -0.183343      -0.5  0.000000\n...        ...       ...       ...       ...\n1333  0.468750  0.067477       1.0  0.000000\n1334 -1.020833  0.178465      -0.5  0.000000\n1335 -1.020833  0.727647      -0.5  0.000000\n1336 -0.739583 -0.571484      -0.5  0.000000\n1337  0.916667 -0.160146      -0.5 -0.590433\n\n[1338 rows x 4 columns]",
      "text/html": "<div>\n<style scoped>\n    .dataframe tbody tr th:only-of-type {\n        vertical-align: middle;\n    }\n\n    .dataframe tbody tr th {\n        vertical-align: top;\n    }\n\n    .dataframe thead th {\n        text-align: right;\n    }\n</style>\n<table border=\"1\" class=\"dataframe\">\n  <thead>\n    <tr style=\"text-align: right;\">\n      <th></th>\n      <th>age</th>\n      <th>bmi</th>\n      <th>children</th>\n      <th>smoker</th>\n    </tr>\n  </thead>\n  <tbody>\n    <tr>\n      <th>0</th>\n      <td>-0.854167</td>\n      <td>-0.304319</td>\n      <td>-0.5</td>\n      <td>-0.590433</td>\n    </tr>\n    <tr>\n      <th>1</th>\n      <td>-1.020833</td>\n      <td>0.389592</td>\n      <td>0.0</td>\n      <td>0.000000</td>\n    </tr>\n    <tr>\n      <th>2</th>\n      <td>-0.447917</td>\n      <td>0.302496</td>\n      <td>1.0</td>\n      <td>0.000000</td>\n    </tr>\n    <tr>\n      <th>3</th>\n      <td>-0.239583</td>\n      <td>-0.987437</td>\n      <td>-0.5</td>\n      <td>0.000000</td>\n    </tr>\n    <tr>\n      <th>4</th>\n      <td>-0.281250</td>\n      <td>-0.183343</td>\n      <td>-0.5</td>\n      <td>0.000000</td>\n    </tr>\n    <tr>\n      <th>...</th>\n      <td>...</td>\n      <td>...</td>\n      <td>...</td>\n      <td>...</td>\n    </tr>\n    <tr>\n      <th>1333</th>\n      <td>0.468750</td>\n      <td>0.067477</td>\n      <td>1.0</td>\n      <td>0.000000</td>\n    </tr>\n    <tr>\n      <th>1334</th>\n      <td>-1.020833</td>\n      <td>0.178465</td>\n      <td>-0.5</td>\n      <td>0.000000</td>\n    </tr>\n    <tr>\n      <th>1335</th>\n      <td>-1.020833</td>\n      <td>0.727647</td>\n      <td>-0.5</td>\n      <td>0.000000</td>\n    </tr>\n    <tr>\n      <th>1336</th>\n      <td>-0.739583</td>\n      <td>-0.571484</td>\n      <td>-0.5</td>\n      <td>0.000000</td>\n    </tr>\n    <tr>\n      <th>1337</th>\n      <td>0.916667</td>\n      <td>-0.160146</td>\n      <td>-0.5</td>\n      <td>-0.590433</td>\n    </tr>\n  </tbody>\n</table>\n<p>1338 rows × 4 columns</p>\n</div>"
     },
     "execution_count": 5,
     "metadata": {},
     "output_type": "execute_result"
    }
   ],
   "source": [
    "freg_selection = SelectKBest(score_func=f_regression, k=4)\n",
    "freg_selection.fit(X, Y)\n",
    "df = freg_selection.transform(X)\n",
    "df = pd.DataFrame(df, columns=['age', 'bmi', 'children', 'smoker'])\n",
    "df"
   ],
   "metadata": {
    "collapsed": false,
    "pycharm": {
     "name": "#%%\n"
    }
   }
  },
  {
   "cell_type": "markdown",
   "metadata": {
    "collapsed": true,
    "pycharm": {
     "name": "#%% md\n"
    }
   },
   "source": [
    "****Ensemble Models****"
   ]
  },
  {
   "cell_type": "code",
   "execution_count": 6,
   "outputs": [],
   "source": [
    "from sklearn.preprocessing import PolynomialFeatures\n",
    "\n",
    "from sklearn.linear_model import LinearRegression\n",
    "from sklearn.linear_model import Ridge\n",
    "from sklearn.neighbors import KNeighborsRegressor\n",
    "from sklearn.tree import DecisionTreeRegressor\n",
    "\n",
    "from sklearn.ensemble import RandomForestRegressor\n",
    "from sklearn.ensemble import GradientBoostingRegressor\n",
    "from sklearn.ensemble import BaggingRegressor\n",
    "from sklearn.ensemble import AdaBoostRegressor\n",
    "from sklearn.ensemble import StackingRegressor\n",
    "\n",
    "from sklearn.model_selection import RepeatedKFold, cross_val_score\n",
    "from sklearn.model_selection import GridSearchCV"
   ],
   "metadata": {
    "collapsed": false,
    "pycharm": {
     "name": "#%%\n"
    }
   }
  },
  {
   "cell_type": "code",
   "execution_count": 7,
   "outputs": [],
   "source": [
    "cv = RepeatedKFold(n_splits=6, n_repeats=12, random_state=1)\n"
   ],
   "metadata": {
    "collapsed": false,
    "pycharm": {
     "name": "#%%\n"
    }
   }
  }
 ],
 "metadata": {
  "kernelspec": {
   "display_name": "Python 3",
   "language": "python",
   "name": "python3"
  },
  "language_info": {
   "codemirror_mode": {
    "name": "ipython",
    "version": 2
   },
   "file_extension": ".py",
   "mimetype": "text/x-python",
   "name": "python",
   "nbconvert_exporter": "python",
   "pygments_lexer": "ipython2",
   "version": "2.7.6"
  }
 },
 "nbformat": 4,
 "nbformat_minor": 0
}