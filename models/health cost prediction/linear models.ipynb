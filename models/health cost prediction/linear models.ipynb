{
 "cells": [
  {
   "cell_type": "code",
   "execution_count": 26,
   "metadata": {
    "collapsed": true
   },
   "outputs": [],
   "source": [
    "import numpy as np\n",
    "import pandas as pd\n",
    "import seaborn as sns\n",
    "\n",
    "from matplotlib import pyplot as plt\n",
    "from sklearn.model_selection import KFold\n",
    "from sklearn.linear_model import LogisticRegression\n",
    "from sklearn.linear_model import Ridge\n",
    "from sklearn.tree import DecisionTreeRegressor\n",
    "from sklearn.feature_selection import RFECV"
   ]
  },
  {
   "cell_type": "code",
   "execution_count": 2,
   "outputs": [
    {
     "data": {
      "text/plain": "           age  sex       bmi  children    smoker    region   charges\n0    -0.854167 -1.0 -0.304319      -0.5 -0.590433  0.000000  0.475094\n1    -1.020833  0.0  0.389592       0.0  0.000000  1.000000 -1.302772\n2    -0.447917  0.0  0.302496       1.0  0.000000  1.000000 -0.585858\n3    -0.239583  0.0 -0.987437      -0.5  0.000000  0.000000  0.692467\n4    -0.281250  0.0 -0.183343      -0.5  0.000000  0.000000 -0.693955\n...        ...  ...       ...       ...       ...       ...       ...\n1333  0.468750  0.0  0.067477       1.0  0.000000  0.000000  0.097725\n1334 -1.020833 -1.0  0.178465      -0.5  0.000000 -0.025641 -1.119708\n1335 -1.020833 -1.0  0.727647      -0.5  0.000000  1.000000 -1.345025\n1336 -0.739583 -1.0 -0.571484      -0.5  0.000000  0.000000 -1.190043\n1337  0.916667 -1.0 -0.160146      -0.5 -0.590433  0.000000  0.927370\n\n[1338 rows x 7 columns]",
      "text/html": "<div>\n<style scoped>\n    .dataframe tbody tr th:only-of-type {\n        vertical-align: middle;\n    }\n\n    .dataframe tbody tr th {\n        vertical-align: top;\n    }\n\n    .dataframe thead th {\n        text-align: right;\n    }\n</style>\n<table border=\"1\" class=\"dataframe\">\n  <thead>\n    <tr style=\"text-align: right;\">\n      <th></th>\n      <th>age</th>\n      <th>sex</th>\n      <th>bmi</th>\n      <th>children</th>\n      <th>smoker</th>\n      <th>region</th>\n      <th>charges</th>\n    </tr>\n  </thead>\n  <tbody>\n    <tr>\n      <th>0</th>\n      <td>-0.854167</td>\n      <td>-1.0</td>\n      <td>-0.304319</td>\n      <td>-0.5</td>\n      <td>-0.590433</td>\n      <td>0.000000</td>\n      <td>0.475094</td>\n    </tr>\n    <tr>\n      <th>1</th>\n      <td>-1.020833</td>\n      <td>0.0</td>\n      <td>0.389592</td>\n      <td>0.0</td>\n      <td>0.000000</td>\n      <td>1.000000</td>\n      <td>-1.302772</td>\n    </tr>\n    <tr>\n      <th>2</th>\n      <td>-0.447917</td>\n      <td>0.0</td>\n      <td>0.302496</td>\n      <td>1.0</td>\n      <td>0.000000</td>\n      <td>1.000000</td>\n      <td>-0.585858</td>\n    </tr>\n    <tr>\n      <th>3</th>\n      <td>-0.239583</td>\n      <td>0.0</td>\n      <td>-0.987437</td>\n      <td>-0.5</td>\n      <td>0.000000</td>\n      <td>0.000000</td>\n      <td>0.692467</td>\n    </tr>\n    <tr>\n      <th>4</th>\n      <td>-0.281250</td>\n      <td>0.0</td>\n      <td>-0.183343</td>\n      <td>-0.5</td>\n      <td>0.000000</td>\n      <td>0.000000</td>\n      <td>-0.693955</td>\n    </tr>\n    <tr>\n      <th>...</th>\n      <td>...</td>\n      <td>...</td>\n      <td>...</td>\n      <td>...</td>\n      <td>...</td>\n      <td>...</td>\n      <td>...</td>\n    </tr>\n    <tr>\n      <th>1333</th>\n      <td>0.468750</td>\n      <td>0.0</td>\n      <td>0.067477</td>\n      <td>1.0</td>\n      <td>0.000000</td>\n      <td>0.000000</td>\n      <td>0.097725</td>\n    </tr>\n    <tr>\n      <th>1334</th>\n      <td>-1.020833</td>\n      <td>-1.0</td>\n      <td>0.178465</td>\n      <td>-0.5</td>\n      <td>0.000000</td>\n      <td>-0.025641</td>\n      <td>-1.119708</td>\n    </tr>\n    <tr>\n      <th>1335</th>\n      <td>-1.020833</td>\n      <td>-1.0</td>\n      <td>0.727647</td>\n      <td>-0.5</td>\n      <td>0.000000</td>\n      <td>1.000000</td>\n      <td>-1.345025</td>\n    </tr>\n    <tr>\n      <th>1336</th>\n      <td>-0.739583</td>\n      <td>-1.0</td>\n      <td>-0.571484</td>\n      <td>-0.5</td>\n      <td>0.000000</td>\n      <td>0.000000</td>\n      <td>-1.190043</td>\n    </tr>\n    <tr>\n      <th>1337</th>\n      <td>0.916667</td>\n      <td>-1.0</td>\n      <td>-0.160146</td>\n      <td>-0.5</td>\n      <td>-0.590433</td>\n      <td>0.000000</td>\n      <td>0.927370</td>\n    </tr>\n  </tbody>\n</table>\n<p>1338 rows × 7 columns</p>\n</div>"
     },
     "execution_count": 2,
     "metadata": {},
     "output_type": "execute_result"
    }
   ],
   "source": [
    "ins_data = pd.read_pickle('../../data/feature engineered/insurance.pkl')\n",
    "ins_data"
   ],
   "metadata": {
    "collapsed": false,
    "pycharm": {
     "name": "#%%\n"
    }
   }
  },
  {
   "cell_type": "code",
   "execution_count": 7,
   "outputs": [],
   "source": [
    "Y = ins_data.loc[:, 'charges']\n",
    "X = ins_data.drop('charges', axis=1)"
   ],
   "metadata": {
    "collapsed": false,
    "pycharm": {
     "name": "#%%\n"
    }
   }
  },
  {
   "cell_type": "code",
   "execution_count": 8,
   "outputs": [
    {
     "data": {
      "text/plain": "((1338, 6), (1338,))"
     },
     "execution_count": 8,
     "metadata": {},
     "output_type": "execute_result"
    }
   ],
   "source": [
    "X.shape, Y.shape"
   ],
   "metadata": {
    "collapsed": false,
    "pycharm": {
     "name": "#%%\n"
    }
   }
  },
  {
   "cell_type": "markdown",
   "source": [
    "****feature selection****"
   ],
   "metadata": {
    "collapsed": false
   }
  },
  {
   "cell_type": "code",
   "execution_count": 24,
   "outputs": [
    {
     "data": {
      "text/plain": "RFECV(cv=KFold(n_splits=10, random_state=None, shuffle=False),\n      estimator=Ridge())"
     },
     "execution_count": 24,
     "metadata": {},
     "output_type": "execute_result"
    }
   ],
   "source": [
    "rfcv_estimator = Ridge()\n",
    "rfcv_model = RFECV(estimator=rfcv_estimator, step=1, cv=KFold(10))\n",
    "rfcv_model.fit(X, Y)"
   ],
   "metadata": {
    "collapsed": false,
    "pycharm": {
     "name": "#%%\n"
    }
   }
  },
  {
   "cell_type": "code",
   "execution_count": 25,
   "outputs": [
    {
     "data": {
      "text/plain": "(array([1, 1, 1, 1, 1, 1]), array([ True,  True,  True,  True,  True,  True]))"
     },
     "execution_count": 25,
     "metadata": {},
     "output_type": "execute_result"
    }
   ],
   "source": [
    "rfcv_model.ranking_, rfcv_model.support_"
   ],
   "metadata": {
    "collapsed": false,
    "pycharm": {
     "name": "#%%\n"
    }
   }
  },
  {
   "cell_type": "code",
   "execution_count": 30,
   "outputs": [
    {
     "data": {
      "text/plain": "RFECV(cv=KFold(n_splits=10, random_state=None, shuffle=False),\n      estimator=DecisionTreeRegressor(min_samples_leaf=25))"
     },
     "execution_count": 30,
     "metadata": {},
     "output_type": "execute_result"
    }
   ],
   "source": [
    "rfcv_estimator_tree = DecisionTreeRegressor(min_samples_leaf=25)\n",
    "rfcv_model = RFECV(estimator=rfcv_estimator_tree, step=1, cv=KFold(10))\n",
    "rfcv_model.fit(X, Y)"
   ],
   "metadata": {
    "collapsed": false,
    "pycharm": {
     "name": "#%%\n"
    }
   }
  },
  {
   "cell_type": "code",
   "execution_count": 31,
   "outputs": [
    {
     "data": {
      "text/plain": "(array([1, 1, 1, 1, 1, 1]), array([ True,  True,  True,  True,  True,  True]))"
     },
     "execution_count": 31,
     "metadata": {},
     "output_type": "execute_result"
    }
   ],
   "source": [
    "rfcv_model.ranking_, rfcv_model.support_"
   ],
   "metadata": {
    "collapsed": false,
    "pycharm": {
     "name": "#%%\n"
    }
   }
  }
 ],
 "metadata": {
  "kernelspec": {
   "display_name": "Python 3",
   "language": "python",
   "name": "python3"
  },
  "language_info": {
   "codemirror_mode": {
    "name": "ipython",
    "version": 2
   },
   "file_extension": ".py",
   "mimetype": "text/x-python",
   "name": "python",
   "nbconvert_exporter": "python",
   "pygments_lexer": "ipython2",
   "version": "2.7.6"
  }
 },
 "nbformat": 4,
 "nbformat_minor": 0
}