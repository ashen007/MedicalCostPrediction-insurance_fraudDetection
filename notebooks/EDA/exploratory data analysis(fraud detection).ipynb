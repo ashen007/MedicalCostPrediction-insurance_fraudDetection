{
 "cells": [
  {
   "cell_type": "code",
   "execution_count": 1,
   "metadata": {
    "collapsed": true
   },
   "outputs": [],
   "source": [
    "import sys\n",
    "\n",
    "import numpy as np\n",
    "import pandas as pd\n",
    "import seaborn as sns\n",
    "import plotly.express as ex\n",
    "\n",
    "sys.path.insert(0, '..')\n",
    "from scripts import exploratory_analysis\n",
    "from scripts import dist\n",
    "from matplotlib import pyplot as plt\n",
    "from scipy import stats as ss"
   ]
  },
  {
   "cell_type": "code",
   "execution_count": 2,
   "outputs": [],
   "source": [
    "beneficiary_data = pd.read_pickle('../../data/cleaned/train_beneficiary.pkl')\n",
    "inpatient_data = pd.read_pickle('../../data/cleaned/train_inpatient.pkl')\n",
    "outpatient_data = pd.read_pickle('../../data/cleaned/train_outpatient.pkl')"
   ],
   "metadata": {
    "collapsed": false,
    "pycharm": {
     "name": "#%%\n"
    }
   }
  },
  {
   "cell_type": "code",
   "execution_count": 3,
   "outputs": [
    {
     "data": {
      "text/plain": "      BeneID         DOB      DOD  Gender  Race  RenalDiseaseIndicator  State  \\\n0  BENE11001  1943-01-01  neither       1     1                 0.8587     39   \n1  BENE11002  1936-09-01  neither       2     1                 0.8587     39   \n2  BENE11003  1936-08-01  neither       1     1                 0.8587     52   \n3  BENE11004  1922-07-01  neither       1     1                 0.8587     39   \n4  BENE11005  1935-09-01  neither       1     1                 0.8587     24   \n\n   County  NoOfMonths_PartACov  NoOfMonths_PartBCov  ...  \\\n0     230                   12                   12  ...   \n1     280                   12                   12  ...   \n2     590                   12                   12  ...   \n3     270                   12                   12  ...   \n4     680                   12                   12  ...   \n\n   ChronicCond_Depression  ChronicCond_Diabetes  ChronicCond_IschemicHeart  \\\n0                       1                     1                          1   \n1                       2                     2                          2   \n2                       2                     2                          1   \n3                       2                     1                          1   \n4                       2                     1                          2   \n\n   ChronicCond_Osteoporasis  ChronicCond_rheumatoidarthritis  \\\n0                         2                                1   \n1                         2                                2   \n2                         2                                2   \n3                         1                                1   \n4                         2                                2   \n\n   ChronicCond_stroke  IPAnnualReimbursementAmt  IPAnnualDeductibleAmt  \\\n0                   1                     36000                   3204   \n1                   2                         0                      0   \n2                   2                         0                      0   \n3                   2                         0                      0   \n4                   2                         0                      0   \n\n   OPAnnualReimbursementAmt  OPAnnualDeductibleAmt  \n0                        60                     70  \n1                        30                     50  \n2                        90                     40  \n3                      1810                    760  \n4                      1790                   1200  \n\n[5 rows x 25 columns]",
      "text/html": "<div>\n<style scoped>\n    .dataframe tbody tr th:only-of-type {\n        vertical-align: middle;\n    }\n\n    .dataframe tbody tr th {\n        vertical-align: top;\n    }\n\n    .dataframe thead th {\n        text-align: right;\n    }\n</style>\n<table border=\"1\" class=\"dataframe\">\n  <thead>\n    <tr style=\"text-align: right;\">\n      <th></th>\n      <th>BeneID</th>\n      <th>DOB</th>\n      <th>DOD</th>\n      <th>Gender</th>\n      <th>Race</th>\n      <th>RenalDiseaseIndicator</th>\n      <th>State</th>\n      <th>County</th>\n      <th>NoOfMonths_PartACov</th>\n      <th>NoOfMonths_PartBCov</th>\n      <th>...</th>\n      <th>ChronicCond_Depression</th>\n      <th>ChronicCond_Diabetes</th>\n      <th>ChronicCond_IschemicHeart</th>\n      <th>ChronicCond_Osteoporasis</th>\n      <th>ChronicCond_rheumatoidarthritis</th>\n      <th>ChronicCond_stroke</th>\n      <th>IPAnnualReimbursementAmt</th>\n      <th>IPAnnualDeductibleAmt</th>\n      <th>OPAnnualReimbursementAmt</th>\n      <th>OPAnnualDeductibleAmt</th>\n    </tr>\n  </thead>\n  <tbody>\n    <tr>\n      <th>0</th>\n      <td>BENE11001</td>\n      <td>1943-01-01</td>\n      <td>neither</td>\n      <td>1</td>\n      <td>1</td>\n      <td>0.8587</td>\n      <td>39</td>\n      <td>230</td>\n      <td>12</td>\n      <td>12</td>\n      <td>...</td>\n      <td>1</td>\n      <td>1</td>\n      <td>1</td>\n      <td>2</td>\n      <td>1</td>\n      <td>1</td>\n      <td>36000</td>\n      <td>3204</td>\n      <td>60</td>\n      <td>70</td>\n    </tr>\n    <tr>\n      <th>1</th>\n      <td>BENE11002</td>\n      <td>1936-09-01</td>\n      <td>neither</td>\n      <td>2</td>\n      <td>1</td>\n      <td>0.8587</td>\n      <td>39</td>\n      <td>280</td>\n      <td>12</td>\n      <td>12</td>\n      <td>...</td>\n      <td>2</td>\n      <td>2</td>\n      <td>2</td>\n      <td>2</td>\n      <td>2</td>\n      <td>2</td>\n      <td>0</td>\n      <td>0</td>\n      <td>30</td>\n      <td>50</td>\n    </tr>\n    <tr>\n      <th>2</th>\n      <td>BENE11003</td>\n      <td>1936-08-01</td>\n      <td>neither</td>\n      <td>1</td>\n      <td>1</td>\n      <td>0.8587</td>\n      <td>52</td>\n      <td>590</td>\n      <td>12</td>\n      <td>12</td>\n      <td>...</td>\n      <td>2</td>\n      <td>2</td>\n      <td>1</td>\n      <td>2</td>\n      <td>2</td>\n      <td>2</td>\n      <td>0</td>\n      <td>0</td>\n      <td>90</td>\n      <td>40</td>\n    </tr>\n    <tr>\n      <th>3</th>\n      <td>BENE11004</td>\n      <td>1922-07-01</td>\n      <td>neither</td>\n      <td>1</td>\n      <td>1</td>\n      <td>0.8587</td>\n      <td>39</td>\n      <td>270</td>\n      <td>12</td>\n      <td>12</td>\n      <td>...</td>\n      <td>2</td>\n      <td>1</td>\n      <td>1</td>\n      <td>1</td>\n      <td>1</td>\n      <td>2</td>\n      <td>0</td>\n      <td>0</td>\n      <td>1810</td>\n      <td>760</td>\n    </tr>\n    <tr>\n      <th>4</th>\n      <td>BENE11005</td>\n      <td>1935-09-01</td>\n      <td>neither</td>\n      <td>1</td>\n      <td>1</td>\n      <td>0.8587</td>\n      <td>24</td>\n      <td>680</td>\n      <td>12</td>\n      <td>12</td>\n      <td>...</td>\n      <td>2</td>\n      <td>1</td>\n      <td>2</td>\n      <td>2</td>\n      <td>2</td>\n      <td>2</td>\n      <td>0</td>\n      <td>0</td>\n      <td>1790</td>\n      <td>1200</td>\n    </tr>\n  </tbody>\n</table>\n<p>5 rows × 25 columns</p>\n</div>"
     },
     "execution_count": 3,
     "metadata": {},
     "output_type": "execute_result"
    }
   ],
   "source": [
    "beneficiary_data.head()"
   ],
   "metadata": {
    "collapsed": false,
    "pycharm": {
     "name": "#%%\n"
    }
   }
  },
  {
   "cell_type": "code",
   "execution_count": 4,
   "outputs": [
    {
     "data": {
      "text/plain": "      BeneID   ClaimID ClaimStartDt  ClaimEndDt  Provider  \\\n0  BENE11001  CLM46614   2009-04-12  2009-04-18  PRV55912   \n1  BENE11001  CLM66048   2009-08-31  2009-09-02  PRV55907   \n2  BENE11001  CLM68358   2009-09-17  2009-09-20  PRV56046   \n3  BENE11011  CLM38412   2009-02-14  2009-02-22  PRV52405   \n4  BENE11014  CLM63689   2009-08-13  2009-08-30  PRV56614   \n\n   InscClaimAmtReimbursed  AttendingPhysician  OperatingPhysician  \\\n0                   26000            0.620991            0.411227   \n1                    5000            0.620991            0.411128   \n2                    5000            0.620991            0.411227   \n3                    5000            0.620991            0.411128   \n4                   10000            0.620991            0.411128   \n\n   OtherPhysician AdmissionDt  ...  ClmDiagnosisCode_7  ClmDiagnosisCode_8  \\\n0        0.884123  2009-04-12  ...            0.019840            0.185230   \n1        0.884123  2009-08-31  ...            0.179325            0.245639   \n2        0.109058  2009-09-17  ...            0.179325            0.245639   \n3        0.109058  2009-02-14  ...            0.188047            0.007783   \n4        0.884123  2009-08-13  ...            0.003385            0.000618   \n\n  ClmDiagnosisCode_9  ClmDiagnosisCode_10  ClmProcedureCode_1  \\\n0           0.007684             0.902975            999999.0   \n1           0.333473             0.902975              7092.0   \n2           0.333473             0.902975            999999.0   \n3           0.023842             0.902975               331.0   \n4           0.171073             0.902975              3893.0   \n\n   ClmProcedureCode_2  ClmProcedureCode_3  ClmProcedureCode_4  \\\n0            999999.0            999999.0            999999.0   \n1            999999.0            999999.0            999999.0   \n2            999999.0            999999.0            999999.0   \n3            999999.0            999999.0            999999.0   \n4            999999.0            999999.0            999999.0   \n\n   ClmProcedureCode_5  ClmProcedureCode_6  \n0            999999.0            999999.0  \n1            999999.0            999999.0  \n2            999999.0            999999.0  \n3            999999.0            999999.0  \n4            999999.0            999999.0  \n\n[5 rows x 30 columns]",
      "text/html": "<div>\n<style scoped>\n    .dataframe tbody tr th:only-of-type {\n        vertical-align: middle;\n    }\n\n    .dataframe tbody tr th {\n        vertical-align: top;\n    }\n\n    .dataframe thead th {\n        text-align: right;\n    }\n</style>\n<table border=\"1\" class=\"dataframe\">\n  <thead>\n    <tr style=\"text-align: right;\">\n      <th></th>\n      <th>BeneID</th>\n      <th>ClaimID</th>\n      <th>ClaimStartDt</th>\n      <th>ClaimEndDt</th>\n      <th>Provider</th>\n      <th>InscClaimAmtReimbursed</th>\n      <th>AttendingPhysician</th>\n      <th>OperatingPhysician</th>\n      <th>OtherPhysician</th>\n      <th>AdmissionDt</th>\n      <th>...</th>\n      <th>ClmDiagnosisCode_7</th>\n      <th>ClmDiagnosisCode_8</th>\n      <th>ClmDiagnosisCode_9</th>\n      <th>ClmDiagnosisCode_10</th>\n      <th>ClmProcedureCode_1</th>\n      <th>ClmProcedureCode_2</th>\n      <th>ClmProcedureCode_3</th>\n      <th>ClmProcedureCode_4</th>\n      <th>ClmProcedureCode_5</th>\n      <th>ClmProcedureCode_6</th>\n    </tr>\n  </thead>\n  <tbody>\n    <tr>\n      <th>0</th>\n      <td>BENE11001</td>\n      <td>CLM46614</td>\n      <td>2009-04-12</td>\n      <td>2009-04-18</td>\n      <td>PRV55912</td>\n      <td>26000</td>\n      <td>0.620991</td>\n      <td>0.411227</td>\n      <td>0.884123</td>\n      <td>2009-04-12</td>\n      <td>...</td>\n      <td>0.019840</td>\n      <td>0.185230</td>\n      <td>0.007684</td>\n      <td>0.902975</td>\n      <td>999999.0</td>\n      <td>999999.0</td>\n      <td>999999.0</td>\n      <td>999999.0</td>\n      <td>999999.0</td>\n      <td>999999.0</td>\n    </tr>\n    <tr>\n      <th>1</th>\n      <td>BENE11001</td>\n      <td>CLM66048</td>\n      <td>2009-08-31</td>\n      <td>2009-09-02</td>\n      <td>PRV55907</td>\n      <td>5000</td>\n      <td>0.620991</td>\n      <td>0.411128</td>\n      <td>0.884123</td>\n      <td>2009-08-31</td>\n      <td>...</td>\n      <td>0.179325</td>\n      <td>0.245639</td>\n      <td>0.333473</td>\n      <td>0.902975</td>\n      <td>7092.0</td>\n      <td>999999.0</td>\n      <td>999999.0</td>\n      <td>999999.0</td>\n      <td>999999.0</td>\n      <td>999999.0</td>\n    </tr>\n    <tr>\n      <th>2</th>\n      <td>BENE11001</td>\n      <td>CLM68358</td>\n      <td>2009-09-17</td>\n      <td>2009-09-20</td>\n      <td>PRV56046</td>\n      <td>5000</td>\n      <td>0.620991</td>\n      <td>0.411227</td>\n      <td>0.109058</td>\n      <td>2009-09-17</td>\n      <td>...</td>\n      <td>0.179325</td>\n      <td>0.245639</td>\n      <td>0.333473</td>\n      <td>0.902975</td>\n      <td>999999.0</td>\n      <td>999999.0</td>\n      <td>999999.0</td>\n      <td>999999.0</td>\n      <td>999999.0</td>\n      <td>999999.0</td>\n    </tr>\n    <tr>\n      <th>3</th>\n      <td>BENE11011</td>\n      <td>CLM38412</td>\n      <td>2009-02-14</td>\n      <td>2009-02-22</td>\n      <td>PRV52405</td>\n      <td>5000</td>\n      <td>0.620991</td>\n      <td>0.411128</td>\n      <td>0.109058</td>\n      <td>2009-02-14</td>\n      <td>...</td>\n      <td>0.188047</td>\n      <td>0.007783</td>\n      <td>0.023842</td>\n      <td>0.902975</td>\n      <td>331.0</td>\n      <td>999999.0</td>\n      <td>999999.0</td>\n      <td>999999.0</td>\n      <td>999999.0</td>\n      <td>999999.0</td>\n    </tr>\n    <tr>\n      <th>4</th>\n      <td>BENE11014</td>\n      <td>CLM63689</td>\n      <td>2009-08-13</td>\n      <td>2009-08-30</td>\n      <td>PRV56614</td>\n      <td>10000</td>\n      <td>0.620991</td>\n      <td>0.411128</td>\n      <td>0.884123</td>\n      <td>2009-08-13</td>\n      <td>...</td>\n      <td>0.003385</td>\n      <td>0.000618</td>\n      <td>0.171073</td>\n      <td>0.902975</td>\n      <td>3893.0</td>\n      <td>999999.0</td>\n      <td>999999.0</td>\n      <td>999999.0</td>\n      <td>999999.0</td>\n      <td>999999.0</td>\n    </tr>\n  </tbody>\n</table>\n<p>5 rows × 30 columns</p>\n</div>"
     },
     "execution_count": 4,
     "metadata": {},
     "output_type": "execute_result"
    }
   ],
   "source": [
    "inpatient_data.head()"
   ],
   "metadata": {
    "collapsed": false,
    "pycharm": {
     "name": "#%%\n"
    }
   }
  },
  {
   "cell_type": "code",
   "execution_count": 5,
   "outputs": [
    {
     "data": {
      "text/plain": "      BeneID    ClaimID ClaimStartDt  ClaimEndDt  Provider  \\\n0  BENE11002  CLM624349   2009-10-11  2009-10-11  PRV56011   \n1  BENE11003  CLM189947   2009-02-12  2009-02-12  PRV57610   \n2  BENE11003  CLM438021   2009-06-27  2009-06-27  PRV57595   \n3  BENE11004  CLM121801   2009-01-06  2009-01-06  PRV56011   \n4  BENE11004  CLM150998   2009-01-22  2009-01-22  PRV56011   \n\n   InscClaimAmtReimbursed  AttendingPhysician  OperatingPhysician  \\\n0                      30            0.855262            0.824975   \n1                      80            0.855262            0.824975   \n2                      10            0.855262            0.824975   \n3                      40            0.855262            0.824975   \n4                     200            0.855262            0.824975   \n\n   OtherPhysician  ClmDiagnosisCode_1  ...  ClmDiagnosisCode_9  \\\n0        0.623272            0.523217  ...            0.971341   \n1        0.623272            0.523217  ...            0.971341   \n2        0.623272            0.005785  ...            0.971341   \n3        0.623272            0.523217  ...            0.971341   \n4        0.623272            0.523217  ...            0.971341   \n\n   ClmDiagnosisCode_10  ClmProcedureCode_1  ClmProcedureCode_2  \\\n0             0.997908            999999.0            999999.0   \n1             0.997908            999999.0            999999.0   \n2             0.997908            999999.0            999999.0   \n3             0.997908            999999.0            999999.0   \n4             0.997908            999999.0            999999.0   \n\n   ClmProcedureCode_3  ClmProcedureCode_4  ClmProcedureCode_5  \\\n0            999999.0            999999.0            999999.0   \n1            999999.0            999999.0            999999.0   \n2            999999.0            999999.0            999999.0   \n3            999999.0            999999.0            999999.0   \n4            999999.0            999999.0            999999.0   \n\n   ClmProcedureCode_6  DeductibleAmtPaid  ClmAdmitDiagnosisCode  \n0            999999.0                  0               0.098305  \n1            999999.0                  0               0.000686  \n2            999999.0                  0               0.796373  \n3            999999.0                  0               0.796373  \n4            999999.0                  0               0.098305  \n\n[5 rows x 27 columns]",
      "text/html": "<div>\n<style scoped>\n    .dataframe tbody tr th:only-of-type {\n        vertical-align: middle;\n    }\n\n    .dataframe tbody tr th {\n        vertical-align: top;\n    }\n\n    .dataframe thead th {\n        text-align: right;\n    }\n</style>\n<table border=\"1\" class=\"dataframe\">\n  <thead>\n    <tr style=\"text-align: right;\">\n      <th></th>\n      <th>BeneID</th>\n      <th>ClaimID</th>\n      <th>ClaimStartDt</th>\n      <th>ClaimEndDt</th>\n      <th>Provider</th>\n      <th>InscClaimAmtReimbursed</th>\n      <th>AttendingPhysician</th>\n      <th>OperatingPhysician</th>\n      <th>OtherPhysician</th>\n      <th>ClmDiagnosisCode_1</th>\n      <th>...</th>\n      <th>ClmDiagnosisCode_9</th>\n      <th>ClmDiagnosisCode_10</th>\n      <th>ClmProcedureCode_1</th>\n      <th>ClmProcedureCode_2</th>\n      <th>ClmProcedureCode_3</th>\n      <th>ClmProcedureCode_4</th>\n      <th>ClmProcedureCode_5</th>\n      <th>ClmProcedureCode_6</th>\n      <th>DeductibleAmtPaid</th>\n      <th>ClmAdmitDiagnosisCode</th>\n    </tr>\n  </thead>\n  <tbody>\n    <tr>\n      <th>0</th>\n      <td>BENE11002</td>\n      <td>CLM624349</td>\n      <td>2009-10-11</td>\n      <td>2009-10-11</td>\n      <td>PRV56011</td>\n      <td>30</td>\n      <td>0.855262</td>\n      <td>0.824975</td>\n      <td>0.623272</td>\n      <td>0.523217</td>\n      <td>...</td>\n      <td>0.971341</td>\n      <td>0.997908</td>\n      <td>999999.0</td>\n      <td>999999.0</td>\n      <td>999999.0</td>\n      <td>999999.0</td>\n      <td>999999.0</td>\n      <td>999999.0</td>\n      <td>0</td>\n      <td>0.098305</td>\n    </tr>\n    <tr>\n      <th>1</th>\n      <td>BENE11003</td>\n      <td>CLM189947</td>\n      <td>2009-02-12</td>\n      <td>2009-02-12</td>\n      <td>PRV57610</td>\n      <td>80</td>\n      <td>0.855262</td>\n      <td>0.824975</td>\n      <td>0.623272</td>\n      <td>0.523217</td>\n      <td>...</td>\n      <td>0.971341</td>\n      <td>0.997908</td>\n      <td>999999.0</td>\n      <td>999999.0</td>\n      <td>999999.0</td>\n      <td>999999.0</td>\n      <td>999999.0</td>\n      <td>999999.0</td>\n      <td>0</td>\n      <td>0.000686</td>\n    </tr>\n    <tr>\n      <th>2</th>\n      <td>BENE11003</td>\n      <td>CLM438021</td>\n      <td>2009-06-27</td>\n      <td>2009-06-27</td>\n      <td>PRV57595</td>\n      <td>10</td>\n      <td>0.855262</td>\n      <td>0.824975</td>\n      <td>0.623272</td>\n      <td>0.005785</td>\n      <td>...</td>\n      <td>0.971341</td>\n      <td>0.997908</td>\n      <td>999999.0</td>\n      <td>999999.0</td>\n      <td>999999.0</td>\n      <td>999999.0</td>\n      <td>999999.0</td>\n      <td>999999.0</td>\n      <td>0</td>\n      <td>0.796373</td>\n    </tr>\n    <tr>\n      <th>3</th>\n      <td>BENE11004</td>\n      <td>CLM121801</td>\n      <td>2009-01-06</td>\n      <td>2009-01-06</td>\n      <td>PRV56011</td>\n      <td>40</td>\n      <td>0.855262</td>\n      <td>0.824975</td>\n      <td>0.623272</td>\n      <td>0.523217</td>\n      <td>...</td>\n      <td>0.971341</td>\n      <td>0.997908</td>\n      <td>999999.0</td>\n      <td>999999.0</td>\n      <td>999999.0</td>\n      <td>999999.0</td>\n      <td>999999.0</td>\n      <td>999999.0</td>\n      <td>0</td>\n      <td>0.796373</td>\n    </tr>\n    <tr>\n      <th>4</th>\n      <td>BENE11004</td>\n      <td>CLM150998</td>\n      <td>2009-01-22</td>\n      <td>2009-01-22</td>\n      <td>PRV56011</td>\n      <td>200</td>\n      <td>0.855262</td>\n      <td>0.824975</td>\n      <td>0.623272</td>\n      <td>0.523217</td>\n      <td>...</td>\n      <td>0.971341</td>\n      <td>0.997908</td>\n      <td>999999.0</td>\n      <td>999999.0</td>\n      <td>999999.0</td>\n      <td>999999.0</td>\n      <td>999999.0</td>\n      <td>999999.0</td>\n      <td>0</td>\n      <td>0.098305</td>\n    </tr>\n  </tbody>\n</table>\n<p>5 rows × 27 columns</p>\n</div>"
     },
     "execution_count": 5,
     "metadata": {},
     "output_type": "execute_result"
    }
   ],
   "source": [
    "outpatient_data.head()"
   ],
   "metadata": {
    "collapsed": false,
    "pycharm": {
     "name": "#%%\n"
    }
   }
  },
  {
   "cell_type": "code",
   "execution_count": 11,
   "outputs": [
    {
     "data": {
      "text/plain": "(['AdmissionDt', 'DischargeDt', 'DiagnosisGroupCode'], [])"
     },
     "execution_count": 11,
     "metadata": {},
     "output_type": "execute_result"
    }
   ],
   "source": [
    "common_columns = set(inpatient_data.columns).intersection(set(outpatient_data.columns))\n",
    "unique_to_inpatient = [col for col in inpatient_data.columns if col not in common_columns]\n",
    "unique_to_outpatient = [col for col in outpatient_data.columns if col not in common_columns]\n",
    "\n",
    "unique_to_inpatient, unique_to_outpatient"
   ],
   "metadata": {
    "collapsed": false,
    "pycharm": {
     "name": "#%%\n"
    }
   }
  },
  {
   "cell_type": "markdown",
   "source": [
    "****Beneficiary Data****"
   ],
   "metadata": {
    "collapsed": false
   }
  },
  {
   "cell_type": "code",
   "execution_count": 13,
   "outputs": [
    {
     "data": {
      "text/plain": "BeneID                              object\nDOB                                 object\nDOD                                 object\nGender                               int64\nRace                                 int64\nRenalDiseaseIndicator              float64\nState                                int64\nCounty                               int64\nNoOfMonths_PartACov                  int64\nNoOfMonths_PartBCov                  int64\nChronicCond_Alzheimer                int64\nChronicCond_Heartfailure             int64\nChronicCond_KidneyDisease            int64\nChronicCond_Cancer                   int64\nChronicCond_ObstrPulmonary           int64\nChronicCond_Depression               int64\nChronicCond_Diabetes                 int64\nChronicCond_IschemicHeart            int64\nChronicCond_Osteoporasis             int64\nChronicCond_rheumatoidarthritis      int64\nChronicCond_stroke                   int64\nIPAnnualReimbursementAmt             int64\nIPAnnualDeductibleAmt                int64\nOPAnnualReimbursementAmt             int64\nOPAnnualDeductibleAmt                int64\ndtype: object"
     },
     "execution_count": 13,
     "metadata": {},
     "output_type": "execute_result"
    }
   ],
   "source": [
    "beneficiary_data.dtypes"
   ],
   "metadata": {
    "collapsed": false,
    "pycharm": {
     "name": "#%%\n"
    }
   }
  },
  {
   "cell_type": "code",
   "execution_count": 14,
   "outputs": [
    {
     "data": {
      "text/plain": "{'BeneID': 138556,\n 'DOB': 900,\n 'DOD': 12,\n 'Gender': 2,\n 'Race': 4,\n 'RenalDiseaseIndicator': 2,\n 'State': 52,\n 'County': 314,\n 'NoOfMonths_PartACov': 13,\n 'NoOfMonths_PartBCov': 13,\n 'ChronicCond_Alzheimer': 2,\n 'ChronicCond_Heartfailure': 2,\n 'ChronicCond_KidneyDisease': 2,\n 'ChronicCond_Cancer': 2,\n 'ChronicCond_ObstrPulmonary': 2,\n 'ChronicCond_Depression': 2,\n 'ChronicCond_Diabetes': 2,\n 'ChronicCond_IschemicHeart': 2,\n 'ChronicCond_Osteoporasis': 2,\n 'ChronicCond_rheumatoidarthritis': 2,\n 'ChronicCond_stroke': 2,\n 'IPAnnualReimbursementAmt': 3004,\n 'IPAnnualDeductibleAmt': 147,\n 'OPAnnualReimbursementAmt': 2078,\n 'OPAnnualDeductibleAmt': 789}"
     },
     "execution_count": 14,
     "metadata": {},
     "output_type": "execute_result"
    }
   ],
   "source": [
    "unique_values = {col: beneficiary_data[col].nunique() for col in beneficiary_data.columns}\n",
    "unique_values"
   ],
   "metadata": {
    "collapsed": false,
    "pycharm": {
     "name": "#%%\n"
    }
   }
  },
  {
   "cell_type": "markdown",
   "source": [
    "****Inpatient Data****"
   ],
   "metadata": {
    "collapsed": false,
    "pycharm": {
     "name": "#%% md\n"
    }
   }
  },
  {
   "cell_type": "code",
   "execution_count": 15,
   "outputs": [
    {
     "data": {
      "text/plain": "BeneID                     object\nClaimID                    object\nClaimStartDt               object\nClaimEndDt                 object\nProvider                   object\nInscClaimAmtReimbursed      int64\nAttendingPhysician        float64\nOperatingPhysician        float64\nOtherPhysician            float64\nAdmissionDt                object\nClmAdmitDiagnosisCode     float64\nDeductibleAmtPaid         float64\nDischargeDt                object\nDiagnosisGroupCode        float64\nClmDiagnosisCode_1        float64\nClmDiagnosisCode_2        float64\nClmDiagnosisCode_3        float64\nClmDiagnosisCode_4        float64\nClmDiagnosisCode_5        float64\nClmDiagnosisCode_6        float64\nClmDiagnosisCode_7        float64\nClmDiagnosisCode_8        float64\nClmDiagnosisCode_9        float64\nClmDiagnosisCode_10       float64\nClmProcedureCode_1        float64\nClmProcedureCode_2        float64\nClmProcedureCode_3        float64\nClmProcedureCode_4        float64\nClmProcedureCode_5        float64\nClmProcedureCode_6        float64\ndtype: object"
     },
     "execution_count": 15,
     "metadata": {},
     "output_type": "execute_result"
    }
   ],
   "source": [
    "inpatient_data.dtypes"
   ],
   "metadata": {
    "collapsed": false,
    "pycharm": {
     "name": "#%%\n"
    }
   }
  },
  {
   "cell_type": "code",
   "execution_count": 16,
   "outputs": [
    {
     "data": {
      "text/plain": "{'BeneID': 31289,\n 'ClaimID': 40474,\n 'ClaimStartDt': 398,\n 'ClaimEndDt': 365,\n 'Provider': 2092,\n 'InscClaimAmtReimbursed': 146,\n 'AttendingPhysician': 89,\n 'OperatingPhysician': 63,\n 'OtherPhysician': 9,\n 'AdmissionDt': 398,\n 'ClmAdmitDiagnosisCode': 118,\n 'DeductibleAmtPaid': 1,\n 'DischargeDt': 365,\n 'DiagnosisGroupCode': 134,\n 'ClmDiagnosisCode_1': 130,\n 'ClmDiagnosisCode_2': 127,\n 'ClmDiagnosisCode_3': 129,\n 'ClmDiagnosisCode_4': 127,\n 'ClmDiagnosisCode_5': 129,\n 'ClmDiagnosisCode_6': 126,\n 'ClmDiagnosisCode_7': 119,\n 'ClmDiagnosisCode_8': 117,\n 'ClmDiagnosisCode_9': 108,\n 'ClmDiagnosisCode_10': 26,\n 'ClmProcedureCode_1': 1118,\n 'ClmProcedureCode_2': 298,\n 'ClmProcedureCode_3': 155,\n 'ClmProcedureCode_4': 49,\n 'ClmProcedureCode_5': 7,\n 'ClmProcedureCode_6': 1}"
     },
     "execution_count": 16,
     "metadata": {},
     "output_type": "execute_result"
    }
   ],
   "source": [
    "in_unique_values = {col: inpatient_data[col].nunique() for col in inpatient_data.columns}\n",
    "in_unique_values"
   ],
   "metadata": {
    "collapsed": false,
    "pycharm": {
     "name": "#%%\n"
    }
   }
  },
  {
   "cell_type": "markdown",
   "source": [
    "****Outpatient Data****"
   ],
   "metadata": {
    "collapsed": false,
    "pycharm": {
     "name": "#%% md\n"
    }
   }
  },
  {
   "cell_type": "code",
   "execution_count": 17,
   "outputs": [
    {
     "data": {
      "text/plain": "BeneID                     object\nClaimID                    object\nClaimStartDt               object\nClaimEndDt                 object\nProvider                   object\nInscClaimAmtReimbursed      int64\nAttendingPhysician        float64\nOperatingPhysician        float64\nOtherPhysician            float64\nClmDiagnosisCode_1        float64\nClmDiagnosisCode_2        float64\nClmDiagnosisCode_3        float64\nClmDiagnosisCode_4        float64\nClmDiagnosisCode_5        float64\nClmDiagnosisCode_6        float64\nClmDiagnosisCode_7        float64\nClmDiagnosisCode_8        float64\nClmDiagnosisCode_9        float64\nClmDiagnosisCode_10       float64\nClmProcedureCode_1        float64\nClmProcedureCode_2        float64\nClmProcedureCode_3        float64\nClmProcedureCode_4        float64\nClmProcedureCode_5        float64\nClmProcedureCode_6        float64\nDeductibleAmtPaid           int64\nClmAdmitDiagnosisCode     float64\ndtype: object"
     },
     "execution_count": 17,
     "metadata": {},
     "output_type": "execute_result"
    }
   ],
   "source": [
    "outpatient_data.dtypes"
   ],
   "metadata": {
    "collapsed": false,
    "pycharm": {
     "name": "#%%\n"
    }
   }
  },
  {
   "cell_type": "code",
   "execution_count": 18,
   "outputs": [
    {
     "data": {
      "text/plain": "{'BeneID': 133980,\n 'ClaimID': 517737,\n 'ClaimStartDt': 385,\n 'ClaimEndDt': 366,\n 'Provider': 5012,\n 'InscClaimAmtReimbursed': 342,\n 'AttendingPhysician': 123,\n 'OperatingPhysician': 4,\n 'OtherPhysician': 39,\n 'ClmDiagnosisCode_1': 245,\n 'ClmDiagnosisCode_2': 189,\n 'ClmDiagnosisCode_3': 119,\n 'ClmDiagnosisCode_4': 83,\n 'ClmDiagnosisCode_5': 45,\n 'ClmDiagnosisCode_6': 23,\n 'ClmDiagnosisCode_7': 19,\n 'ClmDiagnosisCode_8': 12,\n 'ClmDiagnosisCode_9': 6,\n 'ClmDiagnosisCode_10': 2,\n 'ClmProcedureCode_1': 81,\n 'ClmProcedureCode_2': 23,\n 'ClmProcedureCode_3': 5,\n 'ClmProcedureCode_4': 3,\n 'ClmProcedureCode_5': 1,\n 'ClmProcedureCode_6': 1,\n 'DeductibleAmtPaid': 16,\n 'ClmAdmitDiagnosisCode': 70}"
     },
     "execution_count": 18,
     "metadata": {},
     "output_type": "execute_result"
    }
   ],
   "source": [
    "out_unique_values = {col: outpatient_data[col].nunique() for col in outpatient_data.columns}\n",
    "out_unique_values"
   ],
   "metadata": {
    "collapsed": false,
    "pycharm": {
     "name": "#%%\n"
    }
   }
  }
 ],
 "metadata": {
  "kernelspec": {
   "display_name": "Python 3",
   "language": "python",
   "name": "python3"
  },
  "language_info": {
   "codemirror_mode": {
    "name": "ipython",
    "version": 2
   },
   "file_extension": ".py",
   "mimetype": "text/x-python",
   "name": "python",
   "nbconvert_exporter": "python",
   "pygments_lexer": "ipython2",
   "version": "2.7.6"
  }
 },
 "nbformat": 4,
 "nbformat_minor": 0
}