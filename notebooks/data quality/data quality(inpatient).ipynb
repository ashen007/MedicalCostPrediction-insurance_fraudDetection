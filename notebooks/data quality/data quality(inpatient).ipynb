{
 "cells": [
  {
   "cell_type": "code",
   "execution_count": 1,
   "metadata": {
    "collapsed": true
   },
   "outputs": [],
   "source": [
    "import sys\n",
    "import numpy as np\n",
    "import pandas as pd\n",
    "import missingno as mn\n",
    "import scipy.stats as ss\n",
    "import seaborn as sns\n",
    "\n",
    "from matplotlib import pyplot as plt\n",
    "\n",
    "sys.path.insert(0, '..')\n",
    "from scripts import sanity_check"
   ]
  },
  {
   "cell_type": "markdown",
   "source": [
    "### load data"
   ],
   "metadata": {
    "collapsed": false,
    "pycharm": {
     "name": "#%% md\n"
    }
   }
  },
  {
   "cell_type": "code",
   "execution_count": 2,
   "outputs": [
    {
     "data": {
      "text/plain": "      BeneID   ClaimID ClaimStartDt  ClaimEndDt  Provider  \\\n0  BENE11001  CLM46614   2009-04-12  2009-04-18  PRV55912   \n1  BENE11001  CLM66048   2009-08-31  2009-09-02  PRV55907   \n2  BENE11001  CLM68358   2009-09-17  2009-09-20  PRV56046   \n3  BENE11011  CLM38412   2009-02-14  2009-02-22  PRV52405   \n4  BENE11014  CLM63689   2009-08-13  2009-08-30  PRV56614   \n\n   InscClaimAmtReimbursed AttendingPhysician OperatingPhysician  \\\n0                   26000          PHY390922                NaN   \n1                    5000          PHY318495          PHY318495   \n2                    5000          PHY372395                NaN   \n3                    5000          PHY369659          PHY392961   \n4                   10000          PHY379376          PHY398258   \n\n  OtherPhysician AdmissionDt  ... ClmDiagnosisCode_7  ClmDiagnosisCode_8  \\\n0            NaN  2009-04-12  ...               2724               19889   \n1            NaN  2009-08-31  ...                NaN                 NaN   \n2      PHY324689  2009-09-17  ...                NaN                 NaN   \n3      PHY349768  2009-02-14  ...              25062               40390   \n4            NaN  2009-08-13  ...               5119               29620   \n\n  ClmDiagnosisCode_9 ClmDiagnosisCode_10 ClmProcedureCode_1  \\\n0               5849                 NaN                NaN   \n1                NaN                 NaN             7092.0   \n2                NaN                 NaN                NaN   \n3               4019                 NaN              331.0   \n4              20300                 NaN             3893.0   \n\n  ClmProcedureCode_2 ClmProcedureCode_3 ClmProcedureCode_4 ClmProcedureCode_5  \\\n0                NaN                NaN                NaN                NaN   \n1                NaN                NaN                NaN                NaN   \n2                NaN                NaN                NaN                NaN   \n3                NaN                NaN                NaN                NaN   \n4                NaN                NaN                NaN                NaN   \n\n  ClmProcedureCode_6  \n0                NaN  \n1                NaN  \n2                NaN  \n3                NaN  \n4                NaN  \n\n[5 rows x 30 columns]",
      "text/html": "<div>\n<style scoped>\n    .dataframe tbody tr th:only-of-type {\n        vertical-align: middle;\n    }\n\n    .dataframe tbody tr th {\n        vertical-align: top;\n    }\n\n    .dataframe thead th {\n        text-align: right;\n    }\n</style>\n<table border=\"1\" class=\"dataframe\">\n  <thead>\n    <tr style=\"text-align: right;\">\n      <th></th>\n      <th>BeneID</th>\n      <th>ClaimID</th>\n      <th>ClaimStartDt</th>\n      <th>ClaimEndDt</th>\n      <th>Provider</th>\n      <th>InscClaimAmtReimbursed</th>\n      <th>AttendingPhysician</th>\n      <th>OperatingPhysician</th>\n      <th>OtherPhysician</th>\n      <th>AdmissionDt</th>\n      <th>...</th>\n      <th>ClmDiagnosisCode_7</th>\n      <th>ClmDiagnosisCode_8</th>\n      <th>ClmDiagnosisCode_9</th>\n      <th>ClmDiagnosisCode_10</th>\n      <th>ClmProcedureCode_1</th>\n      <th>ClmProcedureCode_2</th>\n      <th>ClmProcedureCode_3</th>\n      <th>ClmProcedureCode_4</th>\n      <th>ClmProcedureCode_5</th>\n      <th>ClmProcedureCode_6</th>\n    </tr>\n  </thead>\n  <tbody>\n    <tr>\n      <th>0</th>\n      <td>BENE11001</td>\n      <td>CLM46614</td>\n      <td>2009-04-12</td>\n      <td>2009-04-18</td>\n      <td>PRV55912</td>\n      <td>26000</td>\n      <td>PHY390922</td>\n      <td>NaN</td>\n      <td>NaN</td>\n      <td>2009-04-12</td>\n      <td>...</td>\n      <td>2724</td>\n      <td>19889</td>\n      <td>5849</td>\n      <td>NaN</td>\n      <td>NaN</td>\n      <td>NaN</td>\n      <td>NaN</td>\n      <td>NaN</td>\n      <td>NaN</td>\n      <td>NaN</td>\n    </tr>\n    <tr>\n      <th>1</th>\n      <td>BENE11001</td>\n      <td>CLM66048</td>\n      <td>2009-08-31</td>\n      <td>2009-09-02</td>\n      <td>PRV55907</td>\n      <td>5000</td>\n      <td>PHY318495</td>\n      <td>PHY318495</td>\n      <td>NaN</td>\n      <td>2009-08-31</td>\n      <td>...</td>\n      <td>NaN</td>\n      <td>NaN</td>\n      <td>NaN</td>\n      <td>NaN</td>\n      <td>7092.0</td>\n      <td>NaN</td>\n      <td>NaN</td>\n      <td>NaN</td>\n      <td>NaN</td>\n      <td>NaN</td>\n    </tr>\n    <tr>\n      <th>2</th>\n      <td>BENE11001</td>\n      <td>CLM68358</td>\n      <td>2009-09-17</td>\n      <td>2009-09-20</td>\n      <td>PRV56046</td>\n      <td>5000</td>\n      <td>PHY372395</td>\n      <td>NaN</td>\n      <td>PHY324689</td>\n      <td>2009-09-17</td>\n      <td>...</td>\n      <td>NaN</td>\n      <td>NaN</td>\n      <td>NaN</td>\n      <td>NaN</td>\n      <td>NaN</td>\n      <td>NaN</td>\n      <td>NaN</td>\n      <td>NaN</td>\n      <td>NaN</td>\n      <td>NaN</td>\n    </tr>\n    <tr>\n      <th>3</th>\n      <td>BENE11011</td>\n      <td>CLM38412</td>\n      <td>2009-02-14</td>\n      <td>2009-02-22</td>\n      <td>PRV52405</td>\n      <td>5000</td>\n      <td>PHY369659</td>\n      <td>PHY392961</td>\n      <td>PHY349768</td>\n      <td>2009-02-14</td>\n      <td>...</td>\n      <td>25062</td>\n      <td>40390</td>\n      <td>4019</td>\n      <td>NaN</td>\n      <td>331.0</td>\n      <td>NaN</td>\n      <td>NaN</td>\n      <td>NaN</td>\n      <td>NaN</td>\n      <td>NaN</td>\n    </tr>\n    <tr>\n      <th>4</th>\n      <td>BENE11014</td>\n      <td>CLM63689</td>\n      <td>2009-08-13</td>\n      <td>2009-08-30</td>\n      <td>PRV56614</td>\n      <td>10000</td>\n      <td>PHY379376</td>\n      <td>PHY398258</td>\n      <td>NaN</td>\n      <td>2009-08-13</td>\n      <td>...</td>\n      <td>5119</td>\n      <td>29620</td>\n      <td>20300</td>\n      <td>NaN</td>\n      <td>3893.0</td>\n      <td>NaN</td>\n      <td>NaN</td>\n      <td>NaN</td>\n      <td>NaN</td>\n      <td>NaN</td>\n    </tr>\n  </tbody>\n</table>\n<p>5 rows × 30 columns</p>\n</div>"
     },
     "execution_count": 2,
     "metadata": {},
     "output_type": "execute_result"
    }
   ],
   "source": [
    "inpatient_data = pd.read_csv('../../data/Train_Inpatientdata-1542865627584.csv')\n",
    "inpatient_data.head()"
   ],
   "metadata": {
    "collapsed": false,
    "pycharm": {
     "name": "#%%\n"
    }
   }
  },
  {
   "cell_type": "code",
   "execution_count": 3,
   "outputs": [],
   "source": [
    "checker = sanity_check.SanityCheck(inpatient_data)"
   ],
   "metadata": {
    "collapsed": false,
    "pycharm": {
     "name": "#%%\n"
    }
   }
  },
  {
   "cell_type": "markdown",
   "source": [
    "***measurement levels***"
   ],
   "metadata": {
    "collapsed": false
   }
  },
  {
   "cell_type": "markdown",
   "source": [
    "- numerical"
   ],
   "metadata": {
    "collapsed": false
   }
  },
  {
   "cell_type": "code",
   "execution_count": 4,
   "outputs": [],
   "source": [
    "num = checker.measurement_level()['numerical']"
   ],
   "metadata": {
    "collapsed": false,
    "pycharm": {
     "name": "#%%\n"
    }
   }
  },
  {
   "cell_type": "code",
   "execution_count": 5,
   "outputs": [
    {
     "data": {
      "text/plain": "                              0       1       2       3        4\nInscClaimAmtReimbursed  26000.0  5000.0  5000.0  5000.0  10000.0\nDeductibleAmtPaid        1068.0  1068.0  1068.0  1068.0   1068.0\nClmProcedureCode_1          NaN  7092.0     NaN   331.0   3893.0\nClmProcedureCode_2          NaN     NaN     NaN     NaN      NaN\nClmProcedureCode_3          NaN     NaN     NaN     NaN      NaN\nClmProcedureCode_4          NaN     NaN     NaN     NaN      NaN\nClmProcedureCode_5          NaN     NaN     NaN     NaN      NaN\nClmProcedureCode_6          NaN     NaN     NaN     NaN      NaN",
      "text/html": "<div>\n<style scoped>\n    .dataframe tbody tr th:only-of-type {\n        vertical-align: middle;\n    }\n\n    .dataframe tbody tr th {\n        vertical-align: top;\n    }\n\n    .dataframe thead th {\n        text-align: right;\n    }\n</style>\n<table border=\"1\" class=\"dataframe\">\n  <thead>\n    <tr style=\"text-align: right;\">\n      <th></th>\n      <th>0</th>\n      <th>1</th>\n      <th>2</th>\n      <th>3</th>\n      <th>4</th>\n    </tr>\n  </thead>\n  <tbody>\n    <tr>\n      <th>InscClaimAmtReimbursed</th>\n      <td>26000.0</td>\n      <td>5000.0</td>\n      <td>5000.0</td>\n      <td>5000.0</td>\n      <td>10000.0</td>\n    </tr>\n    <tr>\n      <th>DeductibleAmtPaid</th>\n      <td>1068.0</td>\n      <td>1068.0</td>\n      <td>1068.0</td>\n      <td>1068.0</td>\n      <td>1068.0</td>\n    </tr>\n    <tr>\n      <th>ClmProcedureCode_1</th>\n      <td>NaN</td>\n      <td>7092.0</td>\n      <td>NaN</td>\n      <td>331.0</td>\n      <td>3893.0</td>\n    </tr>\n    <tr>\n      <th>ClmProcedureCode_2</th>\n      <td>NaN</td>\n      <td>NaN</td>\n      <td>NaN</td>\n      <td>NaN</td>\n      <td>NaN</td>\n    </tr>\n    <tr>\n      <th>ClmProcedureCode_3</th>\n      <td>NaN</td>\n      <td>NaN</td>\n      <td>NaN</td>\n      <td>NaN</td>\n      <td>NaN</td>\n    </tr>\n    <tr>\n      <th>ClmProcedureCode_4</th>\n      <td>NaN</td>\n      <td>NaN</td>\n      <td>NaN</td>\n      <td>NaN</td>\n      <td>NaN</td>\n    </tr>\n    <tr>\n      <th>ClmProcedureCode_5</th>\n      <td>NaN</td>\n      <td>NaN</td>\n      <td>NaN</td>\n      <td>NaN</td>\n      <td>NaN</td>\n    </tr>\n    <tr>\n      <th>ClmProcedureCode_6</th>\n      <td>NaN</td>\n      <td>NaN</td>\n      <td>NaN</td>\n      <td>NaN</td>\n      <td>NaN</td>\n    </tr>\n  </tbody>\n</table>\n</div>"
     },
     "execution_count": 5,
     "metadata": {},
     "output_type": "execute_result"
    }
   ],
   "source": [
    "inpatient_data[num].head().T"
   ],
   "metadata": {
    "collapsed": false,
    "pycharm": {
     "name": "#%%\n"
    }
   }
  },
  {
   "cell_type": "markdown",
   "source": [
    "- categorical"
   ],
   "metadata": {
    "collapsed": false
   }
  },
  {
   "cell_type": "code",
   "execution_count": 6,
   "outputs": [],
   "source": [
    "cat = checker.measurement_level()['categorical']"
   ],
   "metadata": {
    "collapsed": false,
    "pycharm": {
     "name": "#%%\n"
    }
   }
  },
  {
   "cell_type": "code",
   "execution_count": 7,
   "outputs": [
    {
     "data": {
      "text/plain": "                                0           1           2           3  \\\nBeneID                  BENE11001   BENE11001   BENE11001   BENE11011   \nClaimID                  CLM46614    CLM66048    CLM68358    CLM38412   \nClaimStartDt           2009-04-12  2009-08-31  2009-09-17  2009-02-14   \nClaimEndDt             2009-04-18  2009-09-02  2009-09-20  2009-02-22   \nProvider                 PRV55912    PRV55907    PRV56046    PRV52405   \nAttendingPhysician      PHY390922   PHY318495   PHY372395   PHY369659   \nOperatingPhysician            NaN   PHY318495         NaN   PHY392961   \nOtherPhysician                NaN         NaN   PHY324689   PHY349768   \nAdmissionDt            2009-04-12  2009-08-31  2009-09-17  2009-02-14   \nClmAdmitDiagnosisCode        7866        6186       29590         431   \nDischargeDt            2009-04-18  2009-09-02  2009-09-20  2009-02-22   \nDiagnosisGroupCode            201         750         883         067   \nClmDiagnosisCode_1           1970        6186       29623       43491   \nClmDiagnosisCode_2           4019        2948       30390        2762   \nClmDiagnosisCode_3           5853       56400       71690        7843   \nClmDiagnosisCode_4           7843         NaN       34590       32723   \nClmDiagnosisCode_5           2768         NaN       V1581       V1041   \nClmDiagnosisCode_6          71590         NaN       32723        4254   \nClmDiagnosisCode_7           2724         NaN         NaN       25062   \nClmDiagnosisCode_8          19889         NaN         NaN       40390   \nClmDiagnosisCode_9           5849         NaN         NaN        4019   \nClmDiagnosisCode_10           NaN         NaN         NaN         NaN   \n\n                                4  \nBeneID                  BENE11014  \nClaimID                  CLM63689  \nClaimStartDt           2009-08-13  \nClaimEndDt             2009-08-30  \nProvider                 PRV56614  \nAttendingPhysician      PHY379376  \nOperatingPhysician      PHY398258  \nOtherPhysician                NaN  \nAdmissionDt            2009-08-13  \nClmAdmitDiagnosisCode       78321  \nDischargeDt            2009-08-30  \nDiagnosisGroupCode            975  \nClmDiagnosisCode_1            042  \nClmDiagnosisCode_2           3051  \nClmDiagnosisCode_3          34400  \nClmDiagnosisCode_4           5856  \nClmDiagnosisCode_5          42732  \nClmDiagnosisCode_6            486  \nClmDiagnosisCode_7           5119  \nClmDiagnosisCode_8          29620  \nClmDiagnosisCode_9          20300  \nClmDiagnosisCode_10           NaN  ",
      "text/html": "<div>\n<style scoped>\n    .dataframe tbody tr th:only-of-type {\n        vertical-align: middle;\n    }\n\n    .dataframe tbody tr th {\n        vertical-align: top;\n    }\n\n    .dataframe thead th {\n        text-align: right;\n    }\n</style>\n<table border=\"1\" class=\"dataframe\">\n  <thead>\n    <tr style=\"text-align: right;\">\n      <th></th>\n      <th>0</th>\n      <th>1</th>\n      <th>2</th>\n      <th>3</th>\n      <th>4</th>\n    </tr>\n  </thead>\n  <tbody>\n    <tr>\n      <th>BeneID</th>\n      <td>BENE11001</td>\n      <td>BENE11001</td>\n      <td>BENE11001</td>\n      <td>BENE11011</td>\n      <td>BENE11014</td>\n    </tr>\n    <tr>\n      <th>ClaimID</th>\n      <td>CLM46614</td>\n      <td>CLM66048</td>\n      <td>CLM68358</td>\n      <td>CLM38412</td>\n      <td>CLM63689</td>\n    </tr>\n    <tr>\n      <th>ClaimStartDt</th>\n      <td>2009-04-12</td>\n      <td>2009-08-31</td>\n      <td>2009-09-17</td>\n      <td>2009-02-14</td>\n      <td>2009-08-13</td>\n    </tr>\n    <tr>\n      <th>ClaimEndDt</th>\n      <td>2009-04-18</td>\n      <td>2009-09-02</td>\n      <td>2009-09-20</td>\n      <td>2009-02-22</td>\n      <td>2009-08-30</td>\n    </tr>\n    <tr>\n      <th>Provider</th>\n      <td>PRV55912</td>\n      <td>PRV55907</td>\n      <td>PRV56046</td>\n      <td>PRV52405</td>\n      <td>PRV56614</td>\n    </tr>\n    <tr>\n      <th>AttendingPhysician</th>\n      <td>PHY390922</td>\n      <td>PHY318495</td>\n      <td>PHY372395</td>\n      <td>PHY369659</td>\n      <td>PHY379376</td>\n    </tr>\n    <tr>\n      <th>OperatingPhysician</th>\n      <td>NaN</td>\n      <td>PHY318495</td>\n      <td>NaN</td>\n      <td>PHY392961</td>\n      <td>PHY398258</td>\n    </tr>\n    <tr>\n      <th>OtherPhysician</th>\n      <td>NaN</td>\n      <td>NaN</td>\n      <td>PHY324689</td>\n      <td>PHY349768</td>\n      <td>NaN</td>\n    </tr>\n    <tr>\n      <th>AdmissionDt</th>\n      <td>2009-04-12</td>\n      <td>2009-08-31</td>\n      <td>2009-09-17</td>\n      <td>2009-02-14</td>\n      <td>2009-08-13</td>\n    </tr>\n    <tr>\n      <th>ClmAdmitDiagnosisCode</th>\n      <td>7866</td>\n      <td>6186</td>\n      <td>29590</td>\n      <td>431</td>\n      <td>78321</td>\n    </tr>\n    <tr>\n      <th>DischargeDt</th>\n      <td>2009-04-18</td>\n      <td>2009-09-02</td>\n      <td>2009-09-20</td>\n      <td>2009-02-22</td>\n      <td>2009-08-30</td>\n    </tr>\n    <tr>\n      <th>DiagnosisGroupCode</th>\n      <td>201</td>\n      <td>750</td>\n      <td>883</td>\n      <td>067</td>\n      <td>975</td>\n    </tr>\n    <tr>\n      <th>ClmDiagnosisCode_1</th>\n      <td>1970</td>\n      <td>6186</td>\n      <td>29623</td>\n      <td>43491</td>\n      <td>042</td>\n    </tr>\n    <tr>\n      <th>ClmDiagnosisCode_2</th>\n      <td>4019</td>\n      <td>2948</td>\n      <td>30390</td>\n      <td>2762</td>\n      <td>3051</td>\n    </tr>\n    <tr>\n      <th>ClmDiagnosisCode_3</th>\n      <td>5853</td>\n      <td>56400</td>\n      <td>71690</td>\n      <td>7843</td>\n      <td>34400</td>\n    </tr>\n    <tr>\n      <th>ClmDiagnosisCode_4</th>\n      <td>7843</td>\n      <td>NaN</td>\n      <td>34590</td>\n      <td>32723</td>\n      <td>5856</td>\n    </tr>\n    <tr>\n      <th>ClmDiagnosisCode_5</th>\n      <td>2768</td>\n      <td>NaN</td>\n      <td>V1581</td>\n      <td>V1041</td>\n      <td>42732</td>\n    </tr>\n    <tr>\n      <th>ClmDiagnosisCode_6</th>\n      <td>71590</td>\n      <td>NaN</td>\n      <td>32723</td>\n      <td>4254</td>\n      <td>486</td>\n    </tr>\n    <tr>\n      <th>ClmDiagnosisCode_7</th>\n      <td>2724</td>\n      <td>NaN</td>\n      <td>NaN</td>\n      <td>25062</td>\n      <td>5119</td>\n    </tr>\n    <tr>\n      <th>ClmDiagnosisCode_8</th>\n      <td>19889</td>\n      <td>NaN</td>\n      <td>NaN</td>\n      <td>40390</td>\n      <td>29620</td>\n    </tr>\n    <tr>\n      <th>ClmDiagnosisCode_9</th>\n      <td>5849</td>\n      <td>NaN</td>\n      <td>NaN</td>\n      <td>4019</td>\n      <td>20300</td>\n    </tr>\n    <tr>\n      <th>ClmDiagnosisCode_10</th>\n      <td>NaN</td>\n      <td>NaN</td>\n      <td>NaN</td>\n      <td>NaN</td>\n      <td>NaN</td>\n    </tr>\n  </tbody>\n</table>\n</div>"
     },
     "execution_count": 7,
     "metadata": {},
     "output_type": "execute_result"
    }
   ],
   "source": [
    "inpatient_data[cat].head().T"
   ],
   "metadata": {
    "collapsed": false,
    "pycharm": {
     "name": "#%%\n"
    }
   }
  },
  {
   "cell_type": "code",
   "execution_count": null,
   "outputs": [],
   "source": [],
   "metadata": {
    "collapsed": false,
    "pycharm": {
     "name": "#%%\n"
    }
   }
  }
 ],
 "metadata": {
  "kernelspec": {
   "display_name": "Python 3",
   "language": "python",
   "name": "python3"
  },
  "language_info": {
   "codemirror_mode": {
    "name": "ipython",
    "version": 2
   },
   "file_extension": ".py",
   "mimetype": "text/x-python",
   "name": "python",
   "nbconvert_exporter": "python",
   "pygments_lexer": "ipython2",
   "version": "2.7.6"
  }
 },
 "nbformat": 4,
 "nbformat_minor": 0
}