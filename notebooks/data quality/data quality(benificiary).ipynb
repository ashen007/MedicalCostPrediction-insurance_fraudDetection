{
 "cells": [
  {
   "cell_type": "code",
   "execution_count": 1,
   "outputs": [],
   "source": [
    "import sys\n",
    "import numpy as np\n",
    "import pandas as pd\n",
    "\n",
    "sys.path.insert(0, '..')\n",
    "from scripts import sanity_check"
   ],
   "metadata": {
    "collapsed": false,
    "pycharm": {
     "name": "#%%\n"
    }
   }
  },
  {
   "cell_type": "markdown",
   "source": [
    "### load data"
   ],
   "metadata": {
    "collapsed": false
   }
  },
  {
   "cell_type": "code",
   "execution_count": 2,
   "outputs": [
    {
     "data": {
      "text/plain": "      BeneID         DOB  DOD  Gender  Race RenalDiseaseIndicator  State  \\\n0  BENE11001  1943-01-01  NaN       1     1                     0     39   \n1  BENE11002  1936-09-01  NaN       2     1                     0     39   \n2  BENE11003  1936-08-01  NaN       1     1                     0     52   \n3  BENE11004  1922-07-01  NaN       1     1                     0     39   \n4  BENE11005  1935-09-01  NaN       1     1                     0     24   \n\n   County  NoOfMonths_PartACov  NoOfMonths_PartBCov  ...  \\\n0     230                   12                   12  ...   \n1     280                   12                   12  ...   \n2     590                   12                   12  ...   \n3     270                   12                   12  ...   \n4     680                   12                   12  ...   \n\n   ChronicCond_Depression  ChronicCond_Diabetes  ChronicCond_IschemicHeart  \\\n0                       1                     1                          1   \n1                       2                     2                          2   \n2                       2                     2                          1   \n3                       2                     1                          1   \n4                       2                     1                          2   \n\n   ChronicCond_Osteoporasis  ChronicCond_rheumatoidarthritis  \\\n0                         2                                1   \n1                         2                                2   \n2                         2                                2   \n3                         1                                1   \n4                         2                                2   \n\n   ChronicCond_stroke  IPAnnualReimbursementAmt  IPAnnualDeductibleAmt  \\\n0                   1                     36000                   3204   \n1                   2                         0                      0   \n2                   2                         0                      0   \n3                   2                         0                      0   \n4                   2                         0                      0   \n\n   OPAnnualReimbursementAmt  OPAnnualDeductibleAmt  \n0                        60                     70  \n1                        30                     50  \n2                        90                     40  \n3                      1810                    760  \n4                      1790                   1200  \n\n[5 rows x 25 columns]",
      "text/html": "<div>\n<style scoped>\n    .dataframe tbody tr th:only-of-type {\n        vertical-align: middle;\n    }\n\n    .dataframe tbody tr th {\n        vertical-align: top;\n    }\n\n    .dataframe thead th {\n        text-align: right;\n    }\n</style>\n<table border=\"1\" class=\"dataframe\">\n  <thead>\n    <tr style=\"text-align: right;\">\n      <th></th>\n      <th>BeneID</th>\n      <th>DOB</th>\n      <th>DOD</th>\n      <th>Gender</th>\n      <th>Race</th>\n      <th>RenalDiseaseIndicator</th>\n      <th>State</th>\n      <th>County</th>\n      <th>NoOfMonths_PartACov</th>\n      <th>NoOfMonths_PartBCov</th>\n      <th>...</th>\n      <th>ChronicCond_Depression</th>\n      <th>ChronicCond_Diabetes</th>\n      <th>ChronicCond_IschemicHeart</th>\n      <th>ChronicCond_Osteoporasis</th>\n      <th>ChronicCond_rheumatoidarthritis</th>\n      <th>ChronicCond_stroke</th>\n      <th>IPAnnualReimbursementAmt</th>\n      <th>IPAnnualDeductibleAmt</th>\n      <th>OPAnnualReimbursementAmt</th>\n      <th>OPAnnualDeductibleAmt</th>\n    </tr>\n  </thead>\n  <tbody>\n    <tr>\n      <th>0</th>\n      <td>BENE11001</td>\n      <td>1943-01-01</td>\n      <td>NaN</td>\n      <td>1</td>\n      <td>1</td>\n      <td>0</td>\n      <td>39</td>\n      <td>230</td>\n      <td>12</td>\n      <td>12</td>\n      <td>...</td>\n      <td>1</td>\n      <td>1</td>\n      <td>1</td>\n      <td>2</td>\n      <td>1</td>\n      <td>1</td>\n      <td>36000</td>\n      <td>3204</td>\n      <td>60</td>\n      <td>70</td>\n    </tr>\n    <tr>\n      <th>1</th>\n      <td>BENE11002</td>\n      <td>1936-09-01</td>\n      <td>NaN</td>\n      <td>2</td>\n      <td>1</td>\n      <td>0</td>\n      <td>39</td>\n      <td>280</td>\n      <td>12</td>\n      <td>12</td>\n      <td>...</td>\n      <td>2</td>\n      <td>2</td>\n      <td>2</td>\n      <td>2</td>\n      <td>2</td>\n      <td>2</td>\n      <td>0</td>\n      <td>0</td>\n      <td>30</td>\n      <td>50</td>\n    </tr>\n    <tr>\n      <th>2</th>\n      <td>BENE11003</td>\n      <td>1936-08-01</td>\n      <td>NaN</td>\n      <td>1</td>\n      <td>1</td>\n      <td>0</td>\n      <td>52</td>\n      <td>590</td>\n      <td>12</td>\n      <td>12</td>\n      <td>...</td>\n      <td>2</td>\n      <td>2</td>\n      <td>1</td>\n      <td>2</td>\n      <td>2</td>\n      <td>2</td>\n      <td>0</td>\n      <td>0</td>\n      <td>90</td>\n      <td>40</td>\n    </tr>\n    <tr>\n      <th>3</th>\n      <td>BENE11004</td>\n      <td>1922-07-01</td>\n      <td>NaN</td>\n      <td>1</td>\n      <td>1</td>\n      <td>0</td>\n      <td>39</td>\n      <td>270</td>\n      <td>12</td>\n      <td>12</td>\n      <td>...</td>\n      <td>2</td>\n      <td>1</td>\n      <td>1</td>\n      <td>1</td>\n      <td>1</td>\n      <td>2</td>\n      <td>0</td>\n      <td>0</td>\n      <td>1810</td>\n      <td>760</td>\n    </tr>\n    <tr>\n      <th>4</th>\n      <td>BENE11005</td>\n      <td>1935-09-01</td>\n      <td>NaN</td>\n      <td>1</td>\n      <td>1</td>\n      <td>0</td>\n      <td>24</td>\n      <td>680</td>\n      <td>12</td>\n      <td>12</td>\n      <td>...</td>\n      <td>2</td>\n      <td>1</td>\n      <td>2</td>\n      <td>2</td>\n      <td>2</td>\n      <td>2</td>\n      <td>0</td>\n      <td>0</td>\n      <td>1790</td>\n      <td>1200</td>\n    </tr>\n  </tbody>\n</table>\n<p>5 rows × 25 columns</p>\n</div>"
     },
     "execution_count": 2,
     "metadata": {},
     "output_type": "execute_result"
    }
   ],
   "source": [
    "beneficiary_data = pd.read_csv('../../data/Train_Beneficiarydata-1542865627584.csv')\n",
    "beneficiary_data.head()"
   ],
   "metadata": {
    "collapsed": false,
    "pycharm": {
     "name": "#%%\n"
    }
   }
  },
  {
   "cell_type": "code",
   "execution_count": 3,
   "outputs": [],
   "source": [
    "checker = sanity_check.SanityCheck(beneficiary_data)"
   ],
   "metadata": {
    "collapsed": false,
    "pycharm": {
     "name": "#%%\n"
    }
   }
  },
  {
   "cell_type": "markdown",
   "source": [
    "***measurement levels***"
   ],
   "metadata": {
    "collapsed": false,
    "pycharm": {
     "name": "#%% md\n"
    }
   }
  },
  {
   "cell_type": "markdown",
   "source": [
    "- numerical"
   ],
   "metadata": {
    "collapsed": false
   }
  },
  {
   "cell_type": "code",
   "execution_count": 4,
   "outputs": [],
   "source": [
    "num = checker.measurement_level()['numerical']"
   ],
   "metadata": {
    "collapsed": false,
    "pycharm": {
     "name": "#%%\n"
    }
   }
  },
  {
   "cell_type": "code",
   "execution_count": 5,
   "outputs": [
    {
     "data": {
      "text/plain": "                                     0    1    2     3     4\nGender                               1    2    1     1     1\nRace                                 1    1    1     1     1\nState                               39   39   52    39    24\nCounty                             230  280  590   270   680\nNoOfMonths_PartACov                 12   12   12    12    12\nNoOfMonths_PartBCov                 12   12   12    12    12\nChronicCond_Alzheimer                1    2    1     1     2\nChronicCond_Heartfailure             2    2    2     1     2\nChronicCond_KidneyDisease            1    2    2     2     2\nChronicCond_Cancer                   2    2    2     2     2\nChronicCond_ObstrPulmonary           2    2    2     2     1\nChronicCond_Depression               1    2    2     2     2\nChronicCond_Diabetes                 1    2    2     1     1\nChronicCond_IschemicHeart            1    2    1     1     2\nChronicCond_Osteoporasis             2    2    2     1     2\nChronicCond_rheumatoidarthritis      1    2    2     1     2\nChronicCond_stroke                   1    2    2     2     2\nIPAnnualReimbursementAmt         36000    0    0     0     0\nIPAnnualDeductibleAmt             3204    0    0     0     0\nOPAnnualReimbursementAmt            60   30   90  1810  1790\nOPAnnualDeductibleAmt               70   50   40   760  1200",
      "text/html": "<div>\n<style scoped>\n    .dataframe tbody tr th:only-of-type {\n        vertical-align: middle;\n    }\n\n    .dataframe tbody tr th {\n        vertical-align: top;\n    }\n\n    .dataframe thead th {\n        text-align: right;\n    }\n</style>\n<table border=\"1\" class=\"dataframe\">\n  <thead>\n    <tr style=\"text-align: right;\">\n      <th></th>\n      <th>0</th>\n      <th>1</th>\n      <th>2</th>\n      <th>3</th>\n      <th>4</th>\n    </tr>\n  </thead>\n  <tbody>\n    <tr>\n      <th>Gender</th>\n      <td>1</td>\n      <td>2</td>\n      <td>1</td>\n      <td>1</td>\n      <td>1</td>\n    </tr>\n    <tr>\n      <th>Race</th>\n      <td>1</td>\n      <td>1</td>\n      <td>1</td>\n      <td>1</td>\n      <td>1</td>\n    </tr>\n    <tr>\n      <th>State</th>\n      <td>39</td>\n      <td>39</td>\n      <td>52</td>\n      <td>39</td>\n      <td>24</td>\n    </tr>\n    <tr>\n      <th>County</th>\n      <td>230</td>\n      <td>280</td>\n      <td>590</td>\n      <td>270</td>\n      <td>680</td>\n    </tr>\n    <tr>\n      <th>NoOfMonths_PartACov</th>\n      <td>12</td>\n      <td>12</td>\n      <td>12</td>\n      <td>12</td>\n      <td>12</td>\n    </tr>\n    <tr>\n      <th>NoOfMonths_PartBCov</th>\n      <td>12</td>\n      <td>12</td>\n      <td>12</td>\n      <td>12</td>\n      <td>12</td>\n    </tr>\n    <tr>\n      <th>ChronicCond_Alzheimer</th>\n      <td>1</td>\n      <td>2</td>\n      <td>1</td>\n      <td>1</td>\n      <td>2</td>\n    </tr>\n    <tr>\n      <th>ChronicCond_Heartfailure</th>\n      <td>2</td>\n      <td>2</td>\n      <td>2</td>\n      <td>1</td>\n      <td>2</td>\n    </tr>\n    <tr>\n      <th>ChronicCond_KidneyDisease</th>\n      <td>1</td>\n      <td>2</td>\n      <td>2</td>\n      <td>2</td>\n      <td>2</td>\n    </tr>\n    <tr>\n      <th>ChronicCond_Cancer</th>\n      <td>2</td>\n      <td>2</td>\n      <td>2</td>\n      <td>2</td>\n      <td>2</td>\n    </tr>\n    <tr>\n      <th>ChronicCond_ObstrPulmonary</th>\n      <td>2</td>\n      <td>2</td>\n      <td>2</td>\n      <td>2</td>\n      <td>1</td>\n    </tr>\n    <tr>\n      <th>ChronicCond_Depression</th>\n      <td>1</td>\n      <td>2</td>\n      <td>2</td>\n      <td>2</td>\n      <td>2</td>\n    </tr>\n    <tr>\n      <th>ChronicCond_Diabetes</th>\n      <td>1</td>\n      <td>2</td>\n      <td>2</td>\n      <td>1</td>\n      <td>1</td>\n    </tr>\n    <tr>\n      <th>ChronicCond_IschemicHeart</th>\n      <td>1</td>\n      <td>2</td>\n      <td>1</td>\n      <td>1</td>\n      <td>2</td>\n    </tr>\n    <tr>\n      <th>ChronicCond_Osteoporasis</th>\n      <td>2</td>\n      <td>2</td>\n      <td>2</td>\n      <td>1</td>\n      <td>2</td>\n    </tr>\n    <tr>\n      <th>ChronicCond_rheumatoidarthritis</th>\n      <td>1</td>\n      <td>2</td>\n      <td>2</td>\n      <td>1</td>\n      <td>2</td>\n    </tr>\n    <tr>\n      <th>ChronicCond_stroke</th>\n      <td>1</td>\n      <td>2</td>\n      <td>2</td>\n      <td>2</td>\n      <td>2</td>\n    </tr>\n    <tr>\n      <th>IPAnnualReimbursementAmt</th>\n      <td>36000</td>\n      <td>0</td>\n      <td>0</td>\n      <td>0</td>\n      <td>0</td>\n    </tr>\n    <tr>\n      <th>IPAnnualDeductibleAmt</th>\n      <td>3204</td>\n      <td>0</td>\n      <td>0</td>\n      <td>0</td>\n      <td>0</td>\n    </tr>\n    <tr>\n      <th>OPAnnualReimbursementAmt</th>\n      <td>60</td>\n      <td>30</td>\n      <td>90</td>\n      <td>1810</td>\n      <td>1790</td>\n    </tr>\n    <tr>\n      <th>OPAnnualDeductibleAmt</th>\n      <td>70</td>\n      <td>50</td>\n      <td>40</td>\n      <td>760</td>\n      <td>1200</td>\n    </tr>\n  </tbody>\n</table>\n</div>"
     },
     "execution_count": 5,
     "metadata": {},
     "output_type": "execute_result"
    }
   ],
   "source": [
    "beneficiary_data[num].head().T"
   ],
   "metadata": {
    "collapsed": false,
    "pycharm": {
     "name": "#%%\n"
    }
   }
  },
  {
   "cell_type": "markdown",
   "source": [
    "- categorical"
   ],
   "metadata": {
    "collapsed": false
   }
  },
  {
   "cell_type": "code",
   "execution_count": 6,
   "outputs": [],
   "source": [
    "cat = checker.measurement_level()['categorical']"
   ],
   "metadata": {
    "collapsed": false,
    "pycharm": {
     "name": "#%%\n"
    }
   }
  },
  {
   "cell_type": "code",
   "execution_count": 7,
   "outputs": [
    {
     "data": {
      "text/plain": "                                0           1           2           3  \\\nBeneID                  BENE11001   BENE11002   BENE11003   BENE11004   \nDOB                    1943-01-01  1936-09-01  1936-08-01  1922-07-01   \nDOD                           NaN         NaN         NaN         NaN   \nRenalDiseaseIndicator           0           0           0           0   \n\n                                4  \nBeneID                  BENE11005  \nDOB                    1935-09-01  \nDOD                           NaN  \nRenalDiseaseIndicator           0  ",
      "text/html": "<div>\n<style scoped>\n    .dataframe tbody tr th:only-of-type {\n        vertical-align: middle;\n    }\n\n    .dataframe tbody tr th {\n        vertical-align: top;\n    }\n\n    .dataframe thead th {\n        text-align: right;\n    }\n</style>\n<table border=\"1\" class=\"dataframe\">\n  <thead>\n    <tr style=\"text-align: right;\">\n      <th></th>\n      <th>0</th>\n      <th>1</th>\n      <th>2</th>\n      <th>3</th>\n      <th>4</th>\n    </tr>\n  </thead>\n  <tbody>\n    <tr>\n      <th>BeneID</th>\n      <td>BENE11001</td>\n      <td>BENE11002</td>\n      <td>BENE11003</td>\n      <td>BENE11004</td>\n      <td>BENE11005</td>\n    </tr>\n    <tr>\n      <th>DOB</th>\n      <td>1943-01-01</td>\n      <td>1936-09-01</td>\n      <td>1936-08-01</td>\n      <td>1922-07-01</td>\n      <td>1935-09-01</td>\n    </tr>\n    <tr>\n      <th>DOD</th>\n      <td>NaN</td>\n      <td>NaN</td>\n      <td>NaN</td>\n      <td>NaN</td>\n      <td>NaN</td>\n    </tr>\n    <tr>\n      <th>RenalDiseaseIndicator</th>\n      <td>0</td>\n      <td>0</td>\n      <td>0</td>\n      <td>0</td>\n      <td>0</td>\n    </tr>\n  </tbody>\n</table>\n</div>"
     },
     "execution_count": 7,
     "metadata": {},
     "output_type": "execute_result"
    }
   ],
   "source": [
    "beneficiary_data[cat].head().T"
   ],
   "metadata": {
    "collapsed": false,
    "pycharm": {
     "name": "#%%\n"
    }
   }
  },
  {
   "cell_type": "code",
   "execution_count": 8,
   "outputs": [],
   "source": [
    "checker.date_columns(columns=['DOB', 'DOD'],\n",
    "                     format='%Y-%m-%d')"
   ],
   "metadata": {
    "collapsed": false,
    "pycharm": {
     "name": "#%%\n"
    }
   }
  }
 ],
 "metadata": {
  "kernelspec": {
   "display_name": "Python 3",
   "language": "python",
   "name": "python3"
  },
  "language_info": {
   "codemirror_mode": {
    "name": "ipython",
    "version": 2
   },
   "file_extension": ".py",
   "mimetype": "text/x-python",
   "name": "python",
   "nbconvert_exporter": "python",
   "pygments_lexer": "ipython2",
   "version": "2.7.6"
  }
 },
 "nbformat": 4,
 "nbformat_minor": 0
}