{
 "cells": [
  {
   "cell_type": "code",
   "execution_count": 2,
   "metadata": {
    "collapsed": true
   },
   "outputs": [],
   "source": [
    "import sys\n",
    "import pandas as pd\n",
    "\n",
    "sys.path.insert(0, '..')\n",
    "from scripts import feature_eng"
   ]
  },
  {
   "cell_type": "code",
   "execution_count": 3,
   "outputs": [],
   "source": [
    "inpatient_data = pd.read_csv('../../data/Train_Inpatientdata-1542865627584.csv')\n",
    "outpatient_data = pd.read_csv('../../data/Train_Outpatientdata-1542865627584.csv')\n",
    "beneficiary_data = pd.read_csv('../../data/Train_Beneficiarydata-1542865627584.csv')"
   ],
   "metadata": {
    "collapsed": false,
    "pycharm": {
     "name": "#%%\n"
    }
   }
  },
  {
   "cell_type": "code",
   "execution_count": 4,
   "outputs": [],
   "source": [
    "inpatient_FE = feature_eng.FeatureEngineering(inpatient_data)\n",
    "outpatient_FE = feature_eng.FeatureEngineering(outpatient_data)\n",
    "beneficiary_FE = feature_eng.FeatureEngineering(beneficiary_data)"
   ],
   "metadata": {
    "collapsed": false,
    "pycharm": {
     "name": "#%%\n"
    }
   }
  },
  {
   "cell_type": "code",
   "execution_count": 8,
   "outputs": [
    {
     "data": {
      "text/plain": "           BeneID   ClaimID ClaimStartDt  ClaimEndDt  Provider  \\\n0       BENE11001  CLM46614   2009-04-12  2009-04-18  PRV55912   \n1       BENE11001  CLM66048   2009-08-31  2009-09-02  PRV55907   \n2       BENE11001  CLM68358   2009-09-17  2009-09-20  PRV56046   \n3       BENE11011  CLM38412   2009-02-14  2009-02-22  PRV52405   \n4       BENE11014  CLM63689   2009-08-13  2009-08-30  PRV56614   \n...           ...       ...          ...         ...       ...   \n40469  BENE159167  CLM69886   2009-09-28  2009-10-02  PRV53671   \n40470  BENE159175  CLM74504   2009-11-03  2009-11-06  PRV54981   \n40471  BENE159177  CLM76485   2009-11-18  2009-11-22  PRV56588   \n40472  BENE159177  CLM79949   2009-12-17  2009-12-18  PRV56575   \n40473  BENE159188  CLM69948   2009-09-28  2009-10-06  PRV54765   \n\n       InscClaimAmtReimbursed AttendingPhysician OperatingPhysician  \\\n0                       26000          PHY390922                NaN   \n1                        5000          PHY318495          PHY318495   \n2                        5000          PHY372395                NaN   \n3                        5000          PHY369659          PHY392961   \n4                       10000          PHY379376          PHY398258   \n...                       ...                ...                ...   \n40469                    7000          PHY345332          PHY319565   \n40470                    4000          PHY342806          PHY365497   \n40471                    3000          PHY423220          PHY332752   \n40472                    5000          PHY353156                NaN   \n40473                   15000          PHY431177          PHY352941   \n\n      OtherPhysician AdmissionDt  ... ClmDiagnosisCode_7  ClmDiagnosisCode_8  \\\n0                NaN  2009-04-12  ...               2724               19889   \n1                NaN  2009-08-31  ...            neither             neither   \n2          PHY324689  2009-09-17  ...            neither             neither   \n3          PHY349768  2009-02-14  ...              25062               40390   \n4                NaN  2009-08-13  ...               5119               29620   \n...              ...         ...  ...                ...                 ...   \n40469            NaN  2009-09-28  ...              79092               70704   \n40470            NaN  2009-11-03  ...              49122                4254   \n40471            NaN  2009-11-18  ...              71534               71590   \n40472            NaN  2009-12-17  ...               4263                0414   \n40473            NaN  2009-09-28  ...               4019                2800   \n\n      ClmDiagnosisCode_9 ClmDiagnosisCode_10 ClmProcedureCode_1  \\\n0                   5849             neither                NaN   \n1                neither             neither             7092.0   \n2                neither             neither                NaN   \n3                   4019             neither              331.0   \n4                  20300             neither             3893.0   \n...                  ...                 ...                ...   \n40469               2869                4148             9904.0   \n40470               5990             neither             8605.0   \n40471              V4502             neither             9390.0   \n40472              41400             neither                NaN   \n40473              27801             neither             1733.0   \n\n      ClmProcedureCode_2 ClmProcedureCode_3 ClmProcedureCode_4  \\\n0                    NaN                NaN                NaN   \n1                    NaN                NaN                NaN   \n2                    NaN                NaN                NaN   \n3                    NaN                NaN                NaN   \n4                    NaN                NaN                NaN   \n...                  ...                ...                ...   \n40469                NaN                NaN                NaN   \n40470                NaN                NaN                NaN   \n40471                NaN                NaN                NaN   \n40472                NaN                NaN                NaN   \n40473                NaN                NaN                NaN   \n\n      ClmProcedureCode_5 ClmProcedureCode_6  \n0                    NaN                NaN  \n1                    NaN                NaN  \n2                    NaN                NaN  \n3                    NaN                NaN  \n4                    NaN                NaN  \n...                  ...                ...  \n40469                NaN                NaN  \n40470                NaN                NaN  \n40471                NaN                NaN  \n40472                NaN                NaN  \n40473                NaN                NaN  \n\n[40474 rows x 30 columns]",
      "text/html": "<div>\n<style scoped>\n    .dataframe tbody tr th:only-of-type {\n        vertical-align: middle;\n    }\n\n    .dataframe tbody tr th {\n        vertical-align: top;\n    }\n\n    .dataframe thead th {\n        text-align: right;\n    }\n</style>\n<table border=\"1\" class=\"dataframe\">\n  <thead>\n    <tr style=\"text-align: right;\">\n      <th></th>\n      <th>BeneID</th>\n      <th>ClaimID</th>\n      <th>ClaimStartDt</th>\n      <th>ClaimEndDt</th>\n      <th>Provider</th>\n      <th>InscClaimAmtReimbursed</th>\n      <th>AttendingPhysician</th>\n      <th>OperatingPhysician</th>\n      <th>OtherPhysician</th>\n      <th>AdmissionDt</th>\n      <th>...</th>\n      <th>ClmDiagnosisCode_7</th>\n      <th>ClmDiagnosisCode_8</th>\n      <th>ClmDiagnosisCode_9</th>\n      <th>ClmDiagnosisCode_10</th>\n      <th>ClmProcedureCode_1</th>\n      <th>ClmProcedureCode_2</th>\n      <th>ClmProcedureCode_3</th>\n      <th>ClmProcedureCode_4</th>\n      <th>ClmProcedureCode_5</th>\n      <th>ClmProcedureCode_6</th>\n    </tr>\n  </thead>\n  <tbody>\n    <tr>\n      <th>0</th>\n      <td>BENE11001</td>\n      <td>CLM46614</td>\n      <td>2009-04-12</td>\n      <td>2009-04-18</td>\n      <td>PRV55912</td>\n      <td>26000</td>\n      <td>PHY390922</td>\n      <td>NaN</td>\n      <td>NaN</td>\n      <td>2009-04-12</td>\n      <td>...</td>\n      <td>2724</td>\n      <td>19889</td>\n      <td>5849</td>\n      <td>neither</td>\n      <td>NaN</td>\n      <td>NaN</td>\n      <td>NaN</td>\n      <td>NaN</td>\n      <td>NaN</td>\n      <td>NaN</td>\n    </tr>\n    <tr>\n      <th>1</th>\n      <td>BENE11001</td>\n      <td>CLM66048</td>\n      <td>2009-08-31</td>\n      <td>2009-09-02</td>\n      <td>PRV55907</td>\n      <td>5000</td>\n      <td>PHY318495</td>\n      <td>PHY318495</td>\n      <td>NaN</td>\n      <td>2009-08-31</td>\n      <td>...</td>\n      <td>neither</td>\n      <td>neither</td>\n      <td>neither</td>\n      <td>neither</td>\n      <td>7092.0</td>\n      <td>NaN</td>\n      <td>NaN</td>\n      <td>NaN</td>\n      <td>NaN</td>\n      <td>NaN</td>\n    </tr>\n    <tr>\n      <th>2</th>\n      <td>BENE11001</td>\n      <td>CLM68358</td>\n      <td>2009-09-17</td>\n      <td>2009-09-20</td>\n      <td>PRV56046</td>\n      <td>5000</td>\n      <td>PHY372395</td>\n      <td>NaN</td>\n      <td>PHY324689</td>\n      <td>2009-09-17</td>\n      <td>...</td>\n      <td>neither</td>\n      <td>neither</td>\n      <td>neither</td>\n      <td>neither</td>\n      <td>NaN</td>\n      <td>NaN</td>\n      <td>NaN</td>\n      <td>NaN</td>\n      <td>NaN</td>\n      <td>NaN</td>\n    </tr>\n    <tr>\n      <th>3</th>\n      <td>BENE11011</td>\n      <td>CLM38412</td>\n      <td>2009-02-14</td>\n      <td>2009-02-22</td>\n      <td>PRV52405</td>\n      <td>5000</td>\n      <td>PHY369659</td>\n      <td>PHY392961</td>\n      <td>PHY349768</td>\n      <td>2009-02-14</td>\n      <td>...</td>\n      <td>25062</td>\n      <td>40390</td>\n      <td>4019</td>\n      <td>neither</td>\n      <td>331.0</td>\n      <td>NaN</td>\n      <td>NaN</td>\n      <td>NaN</td>\n      <td>NaN</td>\n      <td>NaN</td>\n    </tr>\n    <tr>\n      <th>4</th>\n      <td>BENE11014</td>\n      <td>CLM63689</td>\n      <td>2009-08-13</td>\n      <td>2009-08-30</td>\n      <td>PRV56614</td>\n      <td>10000</td>\n      <td>PHY379376</td>\n      <td>PHY398258</td>\n      <td>NaN</td>\n      <td>2009-08-13</td>\n      <td>...</td>\n      <td>5119</td>\n      <td>29620</td>\n      <td>20300</td>\n      <td>neither</td>\n      <td>3893.0</td>\n      <td>NaN</td>\n      <td>NaN</td>\n      <td>NaN</td>\n      <td>NaN</td>\n      <td>NaN</td>\n    </tr>\n    <tr>\n      <th>...</th>\n      <td>...</td>\n      <td>...</td>\n      <td>...</td>\n      <td>...</td>\n      <td>...</td>\n      <td>...</td>\n      <td>...</td>\n      <td>...</td>\n      <td>...</td>\n      <td>...</td>\n      <td>...</td>\n      <td>...</td>\n      <td>...</td>\n      <td>...</td>\n      <td>...</td>\n      <td>...</td>\n      <td>...</td>\n      <td>...</td>\n      <td>...</td>\n      <td>...</td>\n      <td>...</td>\n    </tr>\n    <tr>\n      <th>40469</th>\n      <td>BENE159167</td>\n      <td>CLM69886</td>\n      <td>2009-09-28</td>\n      <td>2009-10-02</td>\n      <td>PRV53671</td>\n      <td>7000</td>\n      <td>PHY345332</td>\n      <td>PHY319565</td>\n      <td>NaN</td>\n      <td>2009-09-28</td>\n      <td>...</td>\n      <td>79092</td>\n      <td>70704</td>\n      <td>2869</td>\n      <td>4148</td>\n      <td>9904.0</td>\n      <td>NaN</td>\n      <td>NaN</td>\n      <td>NaN</td>\n      <td>NaN</td>\n      <td>NaN</td>\n    </tr>\n    <tr>\n      <th>40470</th>\n      <td>BENE159175</td>\n      <td>CLM74504</td>\n      <td>2009-11-03</td>\n      <td>2009-11-06</td>\n      <td>PRV54981</td>\n      <td>4000</td>\n      <td>PHY342806</td>\n      <td>PHY365497</td>\n      <td>NaN</td>\n      <td>2009-11-03</td>\n      <td>...</td>\n      <td>49122</td>\n      <td>4254</td>\n      <td>5990</td>\n      <td>neither</td>\n      <td>8605.0</td>\n      <td>NaN</td>\n      <td>NaN</td>\n      <td>NaN</td>\n      <td>NaN</td>\n      <td>NaN</td>\n    </tr>\n    <tr>\n      <th>40471</th>\n      <td>BENE159177</td>\n      <td>CLM76485</td>\n      <td>2009-11-18</td>\n      <td>2009-11-22</td>\n      <td>PRV56588</td>\n      <td>3000</td>\n      <td>PHY423220</td>\n      <td>PHY332752</td>\n      <td>NaN</td>\n      <td>2009-11-18</td>\n      <td>...</td>\n      <td>71534</td>\n      <td>71590</td>\n      <td>V4502</td>\n      <td>neither</td>\n      <td>9390.0</td>\n      <td>NaN</td>\n      <td>NaN</td>\n      <td>NaN</td>\n      <td>NaN</td>\n      <td>NaN</td>\n    </tr>\n    <tr>\n      <th>40472</th>\n      <td>BENE159177</td>\n      <td>CLM79949</td>\n      <td>2009-12-17</td>\n      <td>2009-12-18</td>\n      <td>PRV56575</td>\n      <td>5000</td>\n      <td>PHY353156</td>\n      <td>NaN</td>\n      <td>NaN</td>\n      <td>2009-12-17</td>\n      <td>...</td>\n      <td>4263</td>\n      <td>0414</td>\n      <td>41400</td>\n      <td>neither</td>\n      <td>NaN</td>\n      <td>NaN</td>\n      <td>NaN</td>\n      <td>NaN</td>\n      <td>NaN</td>\n      <td>NaN</td>\n    </tr>\n    <tr>\n      <th>40473</th>\n      <td>BENE159188</td>\n      <td>CLM69948</td>\n      <td>2009-09-28</td>\n      <td>2009-10-06</td>\n      <td>PRV54765</td>\n      <td>15000</td>\n      <td>PHY431177</td>\n      <td>PHY352941</td>\n      <td>NaN</td>\n      <td>2009-09-28</td>\n      <td>...</td>\n      <td>4019</td>\n      <td>2800</td>\n      <td>27801</td>\n      <td>neither</td>\n      <td>1733.0</td>\n      <td>NaN</td>\n      <td>NaN</td>\n      <td>NaN</td>\n      <td>NaN</td>\n      <td>NaN</td>\n    </tr>\n  </tbody>\n</table>\n<p>40474 rows × 30 columns</p>\n</div>"
     },
     "execution_count": 8,
     "metadata": {},
     "output_type": "execute_result"
    }
   ],
   "source": [
    "pipe = inpatient_FE.impute(features=['ClmDiagnosisCode_1',\n",
    "                                     'ClmDiagnosisCode_2',\n",
    "                                     'ClmDiagnosisCode_3',\n",
    "                                     'ClmDiagnosisCode_4',\n",
    "                                     'ClmDiagnosisCode_5',\n",
    "                                     'ClmDiagnosisCode_6',\n",
    "                                     'ClmDiagnosisCode_7',\n",
    "                                     'ClmDiagnosisCode_8',\n",
    "                                     'ClmDiagnosisCode_9',\n",
    "                                     'ClmDiagnosisCode_10',\n",
    "                                     ],\n",
    "                           method='missing')[0]\n",
    "pipe"
   ],
   "metadata": {
    "collapsed": false,
    "pycharm": {
     "name": "#%%\n"
    }
   }
  }
 ],
 "metadata": {
  "kernelspec": {
   "display_name": "Python 3",
   "language": "python",
   "name": "python3"
  },
  "language_info": {
   "codemirror_mode": {
    "name": "ipython",
    "version": 2
   },
   "file_extension": ".py",
   "mimetype": "text/x-python",
   "name": "python",
   "nbconvert_exporter": "python",
   "pygments_lexer": "ipython2",
   "version": "2.7.6"
  }
 },
 "nbformat": 4,
 "nbformat_minor": 0
}