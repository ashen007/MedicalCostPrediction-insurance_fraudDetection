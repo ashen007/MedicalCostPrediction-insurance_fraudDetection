{
 "cells": [
  {
   "cell_type": "code",
   "execution_count": 13,
   "metadata": {
    "collapsed": true
   },
   "outputs": [],
   "source": [
    "\n",
    "import sys\n",
    "import numpy as np\n",
    "import pandas as pd\n",
    "\n",
    "sys.path.insert(0, '..')\n",
    "from scripts import sanity_check"
   ]
  },
  {
   "cell_type": "markdown",
   "source": [
    "### load data"
   ],
   "metadata": {
    "collapsed": false
   }
  },
  {
   "cell_type": "code",
   "execution_count": 14,
   "outputs": [
    {
     "data": {
      "text/plain": "      BeneID    ClaimID ClaimStartDt  ClaimEndDt  Provider  \\\n0  BENE11002  CLM624349   2009-10-11  2009-10-11  PRV56011   \n1  BENE11003  CLM189947   2009-02-12  2009-02-12  PRV57610   \n2  BENE11003  CLM438021   2009-06-27  2009-06-27  PRV57595   \n3  BENE11004  CLM121801   2009-01-06  2009-01-06  PRV56011   \n4  BENE11004  CLM150998   2009-01-22  2009-01-22  PRV56011   \n\n   InscClaimAmtReimbursed AttendingPhysician OperatingPhysician  \\\n0                      30          PHY326117                NaN   \n1                      80          PHY362868                NaN   \n2                      10          PHY328821                NaN   \n3                      40          PHY334319                NaN   \n4                     200          PHY403831                NaN   \n\n  OtherPhysician ClmDiagnosisCode_1  ... ClmDiagnosisCode_9  \\\n0            NaN              78943  ...                NaN   \n1            NaN               6115  ...                NaN   \n2            NaN               2723  ...                NaN   \n3            NaN              71988  ...                NaN   \n4            NaN              82382  ...                NaN   \n\n  ClmDiagnosisCode_10 ClmProcedureCode_1 ClmProcedureCode_2  \\\n0                 NaN                NaN                NaN   \n1                 NaN                NaN                NaN   \n2                 NaN                NaN                NaN   \n3                 NaN                NaN                NaN   \n4                 NaN                NaN                NaN   \n\n  ClmProcedureCode_3 ClmProcedureCode_4 ClmProcedureCode_5 ClmProcedureCode_6  \\\n0                NaN                NaN                NaN                NaN   \n1                NaN                NaN                NaN                NaN   \n2                NaN                NaN                NaN                NaN   \n3                NaN                NaN                NaN                NaN   \n4                NaN                NaN                NaN                NaN   \n\n  DeductibleAmtPaid  ClmAdmitDiagnosisCode  \n0                 0                  56409  \n1                 0                  79380  \n2                 0                    NaN  \n3                 0                    NaN  \n4                 0                  71947  \n\n[5 rows x 27 columns]",
      "text/html": "<div>\n<style scoped>\n    .dataframe tbody tr th:only-of-type {\n        vertical-align: middle;\n    }\n\n    .dataframe tbody tr th {\n        vertical-align: top;\n    }\n\n    .dataframe thead th {\n        text-align: right;\n    }\n</style>\n<table border=\"1\" class=\"dataframe\">\n  <thead>\n    <tr style=\"text-align: right;\">\n      <th></th>\n      <th>BeneID</th>\n      <th>ClaimID</th>\n      <th>ClaimStartDt</th>\n      <th>ClaimEndDt</th>\n      <th>Provider</th>\n      <th>InscClaimAmtReimbursed</th>\n      <th>AttendingPhysician</th>\n      <th>OperatingPhysician</th>\n      <th>OtherPhysician</th>\n      <th>ClmDiagnosisCode_1</th>\n      <th>...</th>\n      <th>ClmDiagnosisCode_9</th>\n      <th>ClmDiagnosisCode_10</th>\n      <th>ClmProcedureCode_1</th>\n      <th>ClmProcedureCode_2</th>\n      <th>ClmProcedureCode_3</th>\n      <th>ClmProcedureCode_4</th>\n      <th>ClmProcedureCode_5</th>\n      <th>ClmProcedureCode_6</th>\n      <th>DeductibleAmtPaid</th>\n      <th>ClmAdmitDiagnosisCode</th>\n    </tr>\n  </thead>\n  <tbody>\n    <tr>\n      <th>0</th>\n      <td>BENE11002</td>\n      <td>CLM624349</td>\n      <td>2009-10-11</td>\n      <td>2009-10-11</td>\n      <td>PRV56011</td>\n      <td>30</td>\n      <td>PHY326117</td>\n      <td>NaN</td>\n      <td>NaN</td>\n      <td>78943</td>\n      <td>...</td>\n      <td>NaN</td>\n      <td>NaN</td>\n      <td>NaN</td>\n      <td>NaN</td>\n      <td>NaN</td>\n      <td>NaN</td>\n      <td>NaN</td>\n      <td>NaN</td>\n      <td>0</td>\n      <td>56409</td>\n    </tr>\n    <tr>\n      <th>1</th>\n      <td>BENE11003</td>\n      <td>CLM189947</td>\n      <td>2009-02-12</td>\n      <td>2009-02-12</td>\n      <td>PRV57610</td>\n      <td>80</td>\n      <td>PHY362868</td>\n      <td>NaN</td>\n      <td>NaN</td>\n      <td>6115</td>\n      <td>...</td>\n      <td>NaN</td>\n      <td>NaN</td>\n      <td>NaN</td>\n      <td>NaN</td>\n      <td>NaN</td>\n      <td>NaN</td>\n      <td>NaN</td>\n      <td>NaN</td>\n      <td>0</td>\n      <td>79380</td>\n    </tr>\n    <tr>\n      <th>2</th>\n      <td>BENE11003</td>\n      <td>CLM438021</td>\n      <td>2009-06-27</td>\n      <td>2009-06-27</td>\n      <td>PRV57595</td>\n      <td>10</td>\n      <td>PHY328821</td>\n      <td>NaN</td>\n      <td>NaN</td>\n      <td>2723</td>\n      <td>...</td>\n      <td>NaN</td>\n      <td>NaN</td>\n      <td>NaN</td>\n      <td>NaN</td>\n      <td>NaN</td>\n      <td>NaN</td>\n      <td>NaN</td>\n      <td>NaN</td>\n      <td>0</td>\n      <td>NaN</td>\n    </tr>\n    <tr>\n      <th>3</th>\n      <td>BENE11004</td>\n      <td>CLM121801</td>\n      <td>2009-01-06</td>\n      <td>2009-01-06</td>\n      <td>PRV56011</td>\n      <td>40</td>\n      <td>PHY334319</td>\n      <td>NaN</td>\n      <td>NaN</td>\n      <td>71988</td>\n      <td>...</td>\n      <td>NaN</td>\n      <td>NaN</td>\n      <td>NaN</td>\n      <td>NaN</td>\n      <td>NaN</td>\n      <td>NaN</td>\n      <td>NaN</td>\n      <td>NaN</td>\n      <td>0</td>\n      <td>NaN</td>\n    </tr>\n    <tr>\n      <th>4</th>\n      <td>BENE11004</td>\n      <td>CLM150998</td>\n      <td>2009-01-22</td>\n      <td>2009-01-22</td>\n      <td>PRV56011</td>\n      <td>200</td>\n      <td>PHY403831</td>\n      <td>NaN</td>\n      <td>NaN</td>\n      <td>82382</td>\n      <td>...</td>\n      <td>NaN</td>\n      <td>NaN</td>\n      <td>NaN</td>\n      <td>NaN</td>\n      <td>NaN</td>\n      <td>NaN</td>\n      <td>NaN</td>\n      <td>NaN</td>\n      <td>0</td>\n      <td>71947</td>\n    </tr>\n  </tbody>\n</table>\n<p>5 rows × 27 columns</p>\n</div>"
     },
     "execution_count": 14,
     "metadata": {},
     "output_type": "execute_result"
    }
   ],
   "source": [
    "outpatient_data = pd.read_csv('../../data/Train_Outpatientdata-1542865627584.csv')\n",
    "outpatient_data.head()"
   ],
   "metadata": {
    "collapsed": false,
    "pycharm": {
     "name": "#%%\n"
    }
   }
  },
  {
   "cell_type": "code",
   "execution_count": 15,
   "outputs": [],
   "source": [
    "checker = sanity_check.SanityCheck(outpatient_data)"
   ],
   "metadata": {
    "collapsed": false,
    "pycharm": {
     "name": "#%%\n"
    }
   }
  },
  {
   "cell_type": "markdown",
   "source": [
    "***measurement levels***"
   ],
   "metadata": {
    "collapsed": false
   }
  },
  {
   "cell_type": "markdown",
   "source": [
    "- numerical"
   ],
   "metadata": {
    "collapsed": false
   }
  },
  {
   "cell_type": "code",
   "execution_count": 16,
   "outputs": [],
   "source": [
    "num = checker.measurement_level()['numerical']"
   ],
   "metadata": {
    "collapsed": false,
    "pycharm": {
     "name": "#%%\n"
    }
   }
  },
  {
   "cell_type": "code",
   "execution_count": 17,
   "outputs": [
    {
     "data": {
      "text/plain": "                           0     1     2     3      4\nInscClaimAmtReimbursed  30.0  80.0  10.0  40.0  200.0\nClmProcedureCode_1       NaN   NaN   NaN   NaN    NaN\nClmProcedureCode_2       NaN   NaN   NaN   NaN    NaN\nClmProcedureCode_3       NaN   NaN   NaN   NaN    NaN\nClmProcedureCode_4       NaN   NaN   NaN   NaN    NaN\nClmProcedureCode_5       NaN   NaN   NaN   NaN    NaN\nClmProcedureCode_6       NaN   NaN   NaN   NaN    NaN\nDeductibleAmtPaid        0.0   0.0   0.0   0.0    0.0",
      "text/html": "<div>\n<style scoped>\n    .dataframe tbody tr th:only-of-type {\n        vertical-align: middle;\n    }\n\n    .dataframe tbody tr th {\n        vertical-align: top;\n    }\n\n    .dataframe thead th {\n        text-align: right;\n    }\n</style>\n<table border=\"1\" class=\"dataframe\">\n  <thead>\n    <tr style=\"text-align: right;\">\n      <th></th>\n      <th>0</th>\n      <th>1</th>\n      <th>2</th>\n      <th>3</th>\n      <th>4</th>\n    </tr>\n  </thead>\n  <tbody>\n    <tr>\n      <th>InscClaimAmtReimbursed</th>\n      <td>30.0</td>\n      <td>80.0</td>\n      <td>10.0</td>\n      <td>40.0</td>\n      <td>200.0</td>\n    </tr>\n    <tr>\n      <th>ClmProcedureCode_1</th>\n      <td>NaN</td>\n      <td>NaN</td>\n      <td>NaN</td>\n      <td>NaN</td>\n      <td>NaN</td>\n    </tr>\n    <tr>\n      <th>ClmProcedureCode_2</th>\n      <td>NaN</td>\n      <td>NaN</td>\n      <td>NaN</td>\n      <td>NaN</td>\n      <td>NaN</td>\n    </tr>\n    <tr>\n      <th>ClmProcedureCode_3</th>\n      <td>NaN</td>\n      <td>NaN</td>\n      <td>NaN</td>\n      <td>NaN</td>\n      <td>NaN</td>\n    </tr>\n    <tr>\n      <th>ClmProcedureCode_4</th>\n      <td>NaN</td>\n      <td>NaN</td>\n      <td>NaN</td>\n      <td>NaN</td>\n      <td>NaN</td>\n    </tr>\n    <tr>\n      <th>ClmProcedureCode_5</th>\n      <td>NaN</td>\n      <td>NaN</td>\n      <td>NaN</td>\n      <td>NaN</td>\n      <td>NaN</td>\n    </tr>\n    <tr>\n      <th>ClmProcedureCode_6</th>\n      <td>NaN</td>\n      <td>NaN</td>\n      <td>NaN</td>\n      <td>NaN</td>\n      <td>NaN</td>\n    </tr>\n    <tr>\n      <th>DeductibleAmtPaid</th>\n      <td>0.0</td>\n      <td>0.0</td>\n      <td>0.0</td>\n      <td>0.0</td>\n      <td>0.0</td>\n    </tr>\n  </tbody>\n</table>\n</div>"
     },
     "execution_count": 17,
     "metadata": {},
     "output_type": "execute_result"
    }
   ],
   "source": [
    "outpatient_data[num].head().T"
   ],
   "metadata": {
    "collapsed": false,
    "pycharm": {
     "name": "#%%\n"
    }
   }
  },
  {
   "cell_type": "markdown",
   "source": [
    "- categorical"
   ],
   "metadata": {
    "collapsed": false
   }
  },
  {
   "cell_type": "code",
   "execution_count": 18,
   "outputs": [],
   "source": [
    "cat = checker.measurement_level()['categorical']"
   ],
   "metadata": {
    "collapsed": false,
    "pycharm": {
     "name": "#%%\n"
    }
   }
  },
  {
   "cell_type": "code",
   "execution_count": 19,
   "outputs": [
    {
     "data": {
      "text/plain": "                                0           1           2           3  \\\nBeneID                  BENE11002   BENE11003   BENE11003   BENE11004   \nClaimID                 CLM624349   CLM189947   CLM438021   CLM121801   \nClaimStartDt           2009-10-11  2009-02-12  2009-06-27  2009-01-06   \nClaimEndDt             2009-10-11  2009-02-12  2009-06-27  2009-01-06   \nProvider                 PRV56011    PRV57610    PRV57595    PRV56011   \nAttendingPhysician      PHY326117   PHY362868   PHY328821   PHY334319   \nOperatingPhysician            NaN         NaN         NaN         NaN   \nOtherPhysician                NaN         NaN         NaN         NaN   \nClmDiagnosisCode_1          78943        6115        2723       71988   \nClmDiagnosisCode_2          V5866         NaN         NaN         NaN   \nClmDiagnosisCode_3          V1272         NaN         NaN         NaN   \nClmDiagnosisCode_4            NaN         NaN         NaN         NaN   \nClmDiagnosisCode_5            NaN         NaN         NaN         NaN   \nClmDiagnosisCode_6            NaN         NaN         NaN         NaN   \nClmDiagnosisCode_7            NaN         NaN         NaN         NaN   \nClmDiagnosisCode_8            NaN         NaN         NaN         NaN   \nClmDiagnosisCode_9            NaN         NaN         NaN         NaN   \nClmDiagnosisCode_10           NaN         NaN         NaN         NaN   \nClmAdmitDiagnosisCode       56409       79380         NaN         NaN   \n\n                                4  \nBeneID                  BENE11004  \nClaimID                 CLM150998  \nClaimStartDt           2009-01-22  \nClaimEndDt             2009-01-22  \nProvider                 PRV56011  \nAttendingPhysician      PHY403831  \nOperatingPhysician            NaN  \nOtherPhysician                NaN  \nClmDiagnosisCode_1          82382  \nClmDiagnosisCode_2          30000  \nClmDiagnosisCode_3          72887  \nClmDiagnosisCode_4           4280  \nClmDiagnosisCode_5           7197  \nClmDiagnosisCode_6          V4577  \nClmDiagnosisCode_7            NaN  \nClmDiagnosisCode_8            NaN  \nClmDiagnosisCode_9            NaN  \nClmDiagnosisCode_10           NaN  \nClmAdmitDiagnosisCode       71947  ",
      "text/html": "<div>\n<style scoped>\n    .dataframe tbody tr th:only-of-type {\n        vertical-align: middle;\n    }\n\n    .dataframe tbody tr th {\n        vertical-align: top;\n    }\n\n    .dataframe thead th {\n        text-align: right;\n    }\n</style>\n<table border=\"1\" class=\"dataframe\">\n  <thead>\n    <tr style=\"text-align: right;\">\n      <th></th>\n      <th>0</th>\n      <th>1</th>\n      <th>2</th>\n      <th>3</th>\n      <th>4</th>\n    </tr>\n  </thead>\n  <tbody>\n    <tr>\n      <th>BeneID</th>\n      <td>BENE11002</td>\n      <td>BENE11003</td>\n      <td>BENE11003</td>\n      <td>BENE11004</td>\n      <td>BENE11004</td>\n    </tr>\n    <tr>\n      <th>ClaimID</th>\n      <td>CLM624349</td>\n      <td>CLM189947</td>\n      <td>CLM438021</td>\n      <td>CLM121801</td>\n      <td>CLM150998</td>\n    </tr>\n    <tr>\n      <th>ClaimStartDt</th>\n      <td>2009-10-11</td>\n      <td>2009-02-12</td>\n      <td>2009-06-27</td>\n      <td>2009-01-06</td>\n      <td>2009-01-22</td>\n    </tr>\n    <tr>\n      <th>ClaimEndDt</th>\n      <td>2009-10-11</td>\n      <td>2009-02-12</td>\n      <td>2009-06-27</td>\n      <td>2009-01-06</td>\n      <td>2009-01-22</td>\n    </tr>\n    <tr>\n      <th>Provider</th>\n      <td>PRV56011</td>\n      <td>PRV57610</td>\n      <td>PRV57595</td>\n      <td>PRV56011</td>\n      <td>PRV56011</td>\n    </tr>\n    <tr>\n      <th>AttendingPhysician</th>\n      <td>PHY326117</td>\n      <td>PHY362868</td>\n      <td>PHY328821</td>\n      <td>PHY334319</td>\n      <td>PHY403831</td>\n    </tr>\n    <tr>\n      <th>OperatingPhysician</th>\n      <td>NaN</td>\n      <td>NaN</td>\n      <td>NaN</td>\n      <td>NaN</td>\n      <td>NaN</td>\n    </tr>\n    <tr>\n      <th>OtherPhysician</th>\n      <td>NaN</td>\n      <td>NaN</td>\n      <td>NaN</td>\n      <td>NaN</td>\n      <td>NaN</td>\n    </tr>\n    <tr>\n      <th>ClmDiagnosisCode_1</th>\n      <td>78943</td>\n      <td>6115</td>\n      <td>2723</td>\n      <td>71988</td>\n      <td>82382</td>\n    </tr>\n    <tr>\n      <th>ClmDiagnosisCode_2</th>\n      <td>V5866</td>\n      <td>NaN</td>\n      <td>NaN</td>\n      <td>NaN</td>\n      <td>30000</td>\n    </tr>\n    <tr>\n      <th>ClmDiagnosisCode_3</th>\n      <td>V1272</td>\n      <td>NaN</td>\n      <td>NaN</td>\n      <td>NaN</td>\n      <td>72887</td>\n    </tr>\n    <tr>\n      <th>ClmDiagnosisCode_4</th>\n      <td>NaN</td>\n      <td>NaN</td>\n      <td>NaN</td>\n      <td>NaN</td>\n      <td>4280</td>\n    </tr>\n    <tr>\n      <th>ClmDiagnosisCode_5</th>\n      <td>NaN</td>\n      <td>NaN</td>\n      <td>NaN</td>\n      <td>NaN</td>\n      <td>7197</td>\n    </tr>\n    <tr>\n      <th>ClmDiagnosisCode_6</th>\n      <td>NaN</td>\n      <td>NaN</td>\n      <td>NaN</td>\n      <td>NaN</td>\n      <td>V4577</td>\n    </tr>\n    <tr>\n      <th>ClmDiagnosisCode_7</th>\n      <td>NaN</td>\n      <td>NaN</td>\n      <td>NaN</td>\n      <td>NaN</td>\n      <td>NaN</td>\n    </tr>\n    <tr>\n      <th>ClmDiagnosisCode_8</th>\n      <td>NaN</td>\n      <td>NaN</td>\n      <td>NaN</td>\n      <td>NaN</td>\n      <td>NaN</td>\n    </tr>\n    <tr>\n      <th>ClmDiagnosisCode_9</th>\n      <td>NaN</td>\n      <td>NaN</td>\n      <td>NaN</td>\n      <td>NaN</td>\n      <td>NaN</td>\n    </tr>\n    <tr>\n      <th>ClmDiagnosisCode_10</th>\n      <td>NaN</td>\n      <td>NaN</td>\n      <td>NaN</td>\n      <td>NaN</td>\n      <td>NaN</td>\n    </tr>\n    <tr>\n      <th>ClmAdmitDiagnosisCode</th>\n      <td>56409</td>\n      <td>79380</td>\n      <td>NaN</td>\n      <td>NaN</td>\n      <td>71947</td>\n    </tr>\n  </tbody>\n</table>\n</div>"
     },
     "execution_count": 19,
     "metadata": {},
     "output_type": "execute_result"
    }
   ],
   "source": [
    "outpatient_data[cat].head().T"
   ],
   "metadata": {
    "collapsed": false,
    "pycharm": {
     "name": "#%%\n"
    }
   }
  },
  {
   "cell_type": "code",
   "execution_count": 20,
   "outputs": [],
   "source": [
    "checker.date_columns(columns=['ClaimStartDt', 'ClaimEndDt'],\n",
    "                     format='%Y-%m-%d')\n"
   ],
   "metadata": {
    "collapsed": false,
    "pycharm": {
     "name": "#%%\n"
    }
   }
  }
 ],
 "metadata": {
  "kernelspec": {
   "display_name": "Python 3",
   "language": "python",
   "name": "python3"
  },
  "language_info": {
   "codemirror_mode": {
    "name": "ipython",
    "version": 2
   },
   "file_extension": ".py",
   "mimetype": "text/x-python",
   "name": "python",
   "nbconvert_exporter": "python",
   "pygments_lexer": "ipython2",
   "version": "2.7.6"
  }
 },
 "nbformat": 4,
 "nbformat_minor": 0
}